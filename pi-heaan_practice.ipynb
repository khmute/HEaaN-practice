{
 "cells": [
  {
   "cell_type": "markdown",
   "metadata": {},
   "source": [
    "# 파이혜안 패키지 설치"
   ]
  },
  {
   "cell_type": "code",
   "execution_count": 238,
   "metadata": {},
   "outputs": [],
   "source": [
    "# !pip install pi-heaan\n",
    "# python 3.10.X 에서 작동합니다."
   ]
  },
  {
   "cell_type": "markdown",
   "metadata": {},
   "source": [
    "# 파이혜안 불러오기"
   ]
  },
  {
   "cell_type": "code",
   "execution_count": 239,
   "metadata": {},
   "outputs": [],
   "source": [
    "# import piheaan as heaan\n",
    "import piheaan as heaan"
   ]
  },
  {
   "cell_type": "markdown",
   "metadata": {},
   "source": [
    "# 파라미터 설정"
   ]
  },
  {
   "cell_type": "code",
   "execution_count": 240,
   "metadata": {},
   "outputs": [],
   "source": [
    "# params: 동형암호 파라미터\n",
    "params = heaan.ParameterPreset.FVa\n",
    "# context: \n",
    "context = heaan.make_context(params)\n",
    "heaan.make_bootstrappable(context)\n",
    "# default: bootstrapping X"
   ]
  },
  {
   "cell_type": "code",
   "execution_count": 241,
   "metadata": {},
   "outputs": [],
   "source": [
    "key_dir_path = \"./key_new\"\n",
    "secret_key = heaan.SecretKey(context)\n",
    "secret_key.save(\"./secret_key.bin\")\n",
    "key_generator = heaan.KeyGenerator(context, secret_key)\n",
    "key_generator.gen_common_keys()\n",
    "key_generator.save(key_dir_path)\n",
    "public_key = key_generator.keypack"
   ]
  },
  {
   "cell_type": "code",
   "execution_count": 242,
   "metadata": {},
   "outputs": [
    {
     "data": {
      "text/plain": [
       "<piheaan.SecretKey at 0x7f47451e61b0>"
      ]
     },
     "execution_count": 242,
     "metadata": {},
     "output_type": "execute_result"
    }
   ],
   "source": [
    "secret_key"
   ]
  },
  {
   "cell_type": "code",
   "execution_count": 243,
   "metadata": {},
   "outputs": [
    {
     "name": "stdout",
     "output_type": "stream",
     "text": [
      "데이터:  [ (0.000000+0.000000j), (1.000000+0.000000j), (2.000000+0.000000j), (3.000000+0.000000j), (4.000000+0.000000j), ..., (65531.000000+0.000000j), (65532.000000+0.000000j), (65533.000000+0.000000j), (65534.000000+0.000000j), (65535.000000+0.000000j) ]\n"
     ]
    }
   ],
   "source": [
    "log_slots = heaan.get_log_full_slots(context)\n",
    "num_slots = 2 ** log_slots\n",
    "# num_slots = 2**16\n",
    "\n",
    "data = [i for i in range(num_slots)]\n",
    "message = heaan.Message(log_slots)\n",
    "for i in range(num_slots):\n",
    "    message[i] = data[i]\n",
    "print(\"데이터: \", message)"
   ]
  },
  {
   "cell_type": "markdown",
   "metadata": {},
   "source": [
    "# 암호화"
   ]
  },
  {
   "cell_type": "code",
   "execution_count": 244,
   "metadata": {},
   "outputs": [
    {
     "data": {
      "text/plain": [
       "(level: 29, log(num slots): 16, data: [ (0.000000+0.000000j), (1.000000+0.000000j), (2.000000+0.000000j), (3.000000+0.000000j), (4.000000+0.000000j), ..., (65531.000000+0.000000j), (65532.000000+0.000000j), (65533.000000+0.000000j), (65534.000000+0.000000j), (65535.000000+0.000000j) ])"
      ]
     },
     "execution_count": 244,
     "metadata": {},
     "output_type": "execute_result"
    }
   ],
   "source": [
    "encryptor = heaan.Encryptor(context)\n",
    "ciphertext = heaan.Ciphertext(context)\n",
    "encryptor.encrypt(message, public_key, ciphertext)\n",
    "ciphertext\n",
    "# level이 3 정도로 내려가면 bootstrapping"
   ]
  },
  {
   "cell_type": "markdown",
   "metadata": {},
   "source": [
    "# 복호화"
   ]
  },
  {
   "cell_type": "code",
   "execution_count": 245,
   "metadata": {},
   "outputs": [
    {
     "data": {
      "text/plain": [
       "(level: 29, log(num slots): 16, data: [ (0.000000+0.000000j), (1.000000+0.000000j), (2.000000+0.000000j), (3.000000+0.000000j), (4.000000+0.000000j), ..., (65531.000000+0.000000j), (65532.000000+0.000000j), (65533.000000+0.000000j), (65534.000000+0.000000j), (65535.000000+0.000000j) ])"
      ]
     },
     "execution_count": 245,
     "metadata": {},
     "output_type": "execute_result"
    }
   ],
   "source": [
    "decryptor = heaan.Decryptor(context)\n",
    "plaintext = heaan.Plaintext(context)\n",
    "decryptor.decrypt(ciphertext, secret_key, plaintext)\n",
    "plaintext"
   ]
  },
  {
   "cell_type": "markdown",
   "metadata": {},
   "source": [
    "# Encode"
   ]
  },
  {
   "cell_type": "code",
   "execution_count": 246,
   "metadata": {},
   "outputs": [
    {
     "data": {
      "text/plain": [
       "(level: 29, log(num slots): 16, data: [ (0.000000+0.000000j), (1.000000+0.000000j), (2.000000+0.000000j), (3.000000+0.000000j), (4.000000+0.000000j), ..., (65531.000000+0.000000j), (65532.000000+0.000000j), (65533.000000+0.000000j), (65534.000000+0.000000j), (65535.000000+0.000000j) ])"
      ]
     },
     "execution_count": 246,
     "metadata": {},
     "output_type": "execute_result"
    }
   ],
   "source": [
    "endecoder = heaan.EnDecoder(context)\n",
    "ptxt = endecoder.encode(message)\n",
    "ptxt"
   ]
  },
  {
   "cell_type": "code",
   "execution_count": 247,
   "metadata": {},
   "outputs": [
    {
     "name": "stdout",
     "output_type": "stream",
     "text": [
      "디코딩된 데이터 :  [ (0.000000+0.000000j), (1.000000+0.000000j), (2.000000+0.000000j), (3.000000+0.000000j), (4.000000+0.000000j), ..., (65531.000000+0.000000j), (65532.000000+0.000000j), (65533.000000+0.000000j), (65534.000000+0.000000j), (65535.000000+0.000000j) ]\n"
     ]
    }
   ],
   "source": [
    "message_decode = endecoder.decode(ptxt)\n",
    "\n",
    "print(\"디코딩된 데이터 : \", message_decode)"
   ]
  },
  {
   "cell_type": "markdown",
   "metadata": {},
   "source": [
    "# 덧셈, 뺄셈, 곱셈"
   ]
  },
  {
   "cell_type": "markdown",
   "metadata": {},
   "source": [
    "### 데이터 준비"
   ]
  },
  {
   "cell_type": "code",
   "execution_count": 248,
   "metadata": {},
   "outputs": [],
   "source": [
    "import numpy as np\n",
    "\n",
    "data1 = np.random.uniform(size=2**16)\n",
    "data2 = np.random.uniform(size=2**16)"
   ]
  },
  {
   "cell_type": "code",
   "execution_count": 249,
   "metadata": {},
   "outputs": [
    {
     "data": {
      "text/plain": [
       "array([0.71157715, 0.91740066, 0.99173629, ..., 0.35369469, 0.27583273,\n",
       "       0.73178965])"
      ]
     },
     "execution_count": 249,
     "metadata": {},
     "output_type": "execute_result"
    }
   ],
   "source": [
    "data1"
   ]
  },
  {
   "cell_type": "code",
   "execution_count": 250,
   "metadata": {},
   "outputs": [
    {
     "data": {
      "text/plain": [
       "array([0.36740323, 0.26254597, 0.06030614, ..., 0.1607098 , 0.75587057,\n",
       "       0.95596051])"
      ]
     },
     "execution_count": 250,
     "metadata": {},
     "output_type": "execute_result"
    }
   ],
   "source": [
    "data2"
   ]
  },
  {
   "cell_type": "code",
   "execution_count": 251,
   "metadata": {},
   "outputs": [
    {
     "name": "stdout",
     "output_type": "stream",
     "text": [
      "message1 :  [ (0.711577+0.000000j), (0.917401+0.000000j), (0.991736+0.000000j), (0.170446+0.000000j), (0.806522+0.000000j), ..., (0.267782+0.000000j), (0.907357+0.000000j), (0.353695+0.000000j), (0.275833+0.000000j), (0.731790+0.000000j) ]\n",
      "\n",
      "message2 :  [ (0.367403+0.000000j), (0.262546+0.000000j), (0.060306+0.000000j), (0.269452+0.000000j), (0.465133+0.000000j), ..., (0.992413+0.000000j), (0.730003+0.000000j), (0.160710+0.000000j), (0.755871+0.000000j), (0.955961+0.000000j) ]\n"
     ]
    }
   ],
   "source": [
    "message1 = heaan.Message(log_slots)\n",
    "message2 = heaan.Message(log_slots)\n",
    "for i in range(num_slots):\n",
    "    message1[i] = data1[i]\n",
    "    message2[i] = data2[i]\n",
    "    \n",
    "print(\"message1 : \", message1)\n",
    "print()\n",
    "print(\"message2 : \", message2)"
   ]
  },
  {
   "cell_type": "markdown",
   "metadata": {},
   "source": [
    "### 동일한 공개키로 암호화"
   ]
  },
  {
   "cell_type": "code",
   "execution_count": 252,
   "metadata": {},
   "outputs": [
    {
     "name": "stdout",
     "output_type": "stream",
     "text": [
      "ciphertext1 :  (level: 29, log(num slots): 16, data: [ (0.711577+0.000000j), (0.917401+0.000000j), (0.991736+0.000000j), (0.170446+0.000000j), (0.806522+0.000000j), ..., (0.267782+0.000000j), (0.907357+0.000000j), (0.353695+0.000000j), (0.275833+0.000000j), (0.731790+0.000000j) ])\n",
      "\n",
      "ciphertext2 :  (level: 29, log(num slots): 16, data: [ (0.367403+0.000000j), (0.262546+0.000000j), (0.060306+0.000000j), (0.269452+0.000000j), (0.465133+0.000000j), ..., (0.992413+0.000000j), (0.730003+0.000000j), (0.160710+0.000000j), (0.755871+0.000000j), (0.955961+0.000000j) ])\n"
     ]
    }
   ],
   "source": [
    "enryptor = heaan.Encryptor(context)\n",
    "ciphertext1 = heaan.Ciphertext(context)\n",
    "ciphertext2 = heaan.Ciphertext(context)\n",
    "encryptor.encrypt(message1, public_key, ciphertext1)\n",
    "encryptor.encrypt(message2, public_key, ciphertext2)\n",
    "\n",
    "print(\"ciphertext1 : \", ciphertext1)\n",
    "print()\n",
    "print(\"ciphertext2 : \", ciphertext2)"
   ]
  },
  {
   "cell_type": "markdown",
   "metadata": {},
   "source": [
    "### 암호문 동형연산 (덧셈, 스칼라 덧셈, 뺄셈, 곱셈, 스칼라 곱셈, 리스케일 없는 곱셈)"
   ]
  },
  {
   "cell_type": "code",
   "execution_count": 253,
   "metadata": {},
   "outputs": [
    {
     "name": "stdout",
     "output_type": "stream",
     "text": [
      "Help on class HomEvaluator in module piheaan:\n",
      "\n",
      "class HomEvaluator(pybind11_builtins.pybind11_object)\n",
      " |  Method resolution order:\n",
      " |      HomEvaluator\n",
      " |      pybind11_builtins.pybind11_object\n",
      " |      builtins.object\n",
      " |  \n",
      " |  Methods defined here:\n",
      " |  \n",
      " |  __init__(...)\n",
      " |      __init__(*args, **kwargs)\n",
      " |      Overloaded function.\n",
      " |      \n",
      " |      1. __init__(self: piheaan.HomEvaluator, context: piheaan.Context, key_dir_path: str) -> None\n",
      " |      \n",
      " |      construct a homevaluator from context and key_dir_path\n",
      " |      \n",
      " |      2. __init__(self: piheaan.HomEvaluator, context: piheaan.Context, pack: piheaan.KeyPack) -> None\n",
      " |      \n",
      " |      construct a homevaluator from context and keypack\n",
      " |  \n",
      " |  add(...)\n",
      " |      add(*args, **kwargs)\n",
      " |      Overloaded function.\n",
      " |      \n",
      " |      1. add(self: piheaan.HomEvaluator, op1: piheaan.Message, cnst: complex, res: piheaan.Message) -> None\n",
      " |      \n",
      " |      2. add(self: piheaan.HomEvaluator, op1: piheaan.Message, op2: piheaan.Message, res: piheaan.Message) -> None\n",
      " |      \n",
      " |      3. add(self: piheaan.HomEvaluator, op1: piheaan.Iphertext, op2: piheaan.Iphertext, res: piheaan.Iphertext) -> None\n",
      " |      \n",
      " |      4. add(self: piheaan.HomEvaluator, op1: piheaan.Ciphertext, cnst: complex, res: piheaan.Ciphertext) -> None\n",
      " |      \n",
      " |      5. add(self: piheaan.HomEvaluator, op1: piheaan.Ciphertext, op2: piheaan.Message, res: piheaan.Ciphertext) -> None\n",
      " |      \n",
      " |      6. add(self: piheaan.HomEvaluator, op1: piheaan.Ciphertext, op2: piheaan.Plaintext, res: piheaan.Ciphertext) -> None\n",
      " |      \n",
      " |      7. add(self: piheaan.HomEvaluator, op1: piheaan.Ciphertext, op2: piheaan.Ciphertext, res: piheaan.Ciphertext) -> None\n",
      " |  \n",
      " |  bootstrap(...)\n",
      " |      bootstrap(*args, **kwargs)\n",
      " |      Overloaded function.\n",
      " |      \n",
      " |      1. bootstrap(self: piheaan.HomEvaluator, op: piheaan.Ciphertext, res: piheaan.Ciphertext, is_complex: bool = False) -> None\n",
      " |      \n",
      " |      2. bootstrap(self: piheaan.HomEvaluator, op: piheaan.Ciphertext, res1: piheaan.Ciphertext, res2: piheaan.Ciphertext) -> None\n",
      " |      \n",
      " |      3. bootstrap(self: piheaan.HomEvaluator, op1: piheaan.Ciphertext, op2: piheaan.Ciphertext, res1: piheaan.Ciphertext, res2: piheaan.Ciphertext) -> None\n",
      " |  \n",
      " |  bootstrap_extended(...)\n",
      " |      bootstrap_extended(self: piheaan.HomEvaluator, op: piheaan.Ciphertext, res: piheaan.Ciphertext, is_complex: bool = False) -> None\n",
      " |  \n",
      " |  conjugate(...)\n",
      " |      conjugate(*args, **kwargs)\n",
      " |      Overloaded function.\n",
      " |      \n",
      " |      1. conjugate(self: piheaan.HomEvaluator, op: piheaan.Message, res: piheaan.Message) -> None\n",
      " |      \n",
      " |      2. conjugate(self: piheaan.HomEvaluator, op: piheaan.Ciphertext, res: piheaan.Ciphertext) -> None\n",
      " |  \n",
      " |  i_mult(...)\n",
      " |      i_mult(*args, **kwargs)\n",
      " |      Overloaded function.\n",
      " |      \n",
      " |      1. i_mult(self: piheaan.HomEvaluator, op: piheaan.Message, res: piheaan.Message) -> None\n",
      " |      \n",
      " |      2. i_mult(self: piheaan.HomEvaluator, op: piheaan.Ciphertext, res: piheaan.Ciphertext) -> None\n",
      " |  \n",
      " |  integer_mult(...)\n",
      " |      integer_mult(self: piheaan.HomEvaluator, op: piheaan.Ciphertext, cnst_integer: int, res: piheaan.Ciphertext) -> None\n",
      " |  \n",
      " |  kill_imag(...)\n",
      " |      kill_imag(self: piheaan.HomEvaluator, op: piheaan.Ciphertext, res: piheaan.Ciphertext) -> None\n",
      " |  \n",
      " |  left_rotate(...)\n",
      " |      left_rotate(*args, **kwargs)\n",
      " |      Overloaded function.\n",
      " |      \n",
      " |      1. left_rotate(self: piheaan.HomEvaluator, op: piheaan.Message, rot_idx: int, res: piheaan.Message) -> None\n",
      " |      \n",
      " |      2. left_rotate(self: piheaan.HomEvaluator, op: piheaan.Ciphertext, rot_idx: int, res: piheaan.Ciphertext) -> None\n",
      " |  \n",
      " |  left_rotate_reduce(...)\n",
      " |      left_rotate_reduce(*args, **kwargs)\n",
      " |      Overloaded function.\n",
      " |      \n",
      " |      1. left_rotate_reduce(self: piheaan.HomEvaluator, op: piheaan.Message, idx_interval: int, num_summation: int, ctxt_out: piheaan.Message) -> None\n",
      " |      \n",
      " |      2. left_rotate_reduce(self: piheaan.HomEvaluator, op: piheaan.Ciphertext, idx_interval: int, num_summation: int, ctxt_out: piheaan.Ciphertext) -> None\n",
      " |  \n",
      " |  level_down(...)\n",
      " |      level_down(self: piheaan.HomEvaluator, op: piheaan.Ciphertext, target_level: int, res: piheaan.Ciphertext) -> None\n",
      " |  \n",
      " |  level_down_one(...)\n",
      " |      level_down_one(self: piheaan.HomEvaluator, op: piheaan.Ciphertext, res: piheaan.Ciphertext) -> None\n",
      " |  \n",
      " |  mult(...)\n",
      " |      mult(*args, **kwargs)\n",
      " |      Overloaded function.\n",
      " |      \n",
      " |      1. mult(self: piheaan.HomEvaluator, op1: piheaan.Message, cnst: complex, res: piheaan.Message) -> None\n",
      " |      \n",
      " |      2. mult(self: piheaan.HomEvaluator, op1: piheaan.Message, op2: piheaan.Message, res: piheaan.Message) -> None\n",
      " |      \n",
      " |      3. mult(self: piheaan.HomEvaluator, op1: piheaan.Ciphertext, cnst: complex, res: piheaan.Ciphertext) -> None\n",
      " |      \n",
      " |      4. mult(self: piheaan.HomEvaluator, op1: piheaan.Ciphertext, op2: piheaan.Message, res: piheaan.Ciphertext) -> None\n",
      " |      \n",
      " |      5. mult(self: piheaan.HomEvaluator, op1: piheaan.Ciphertext, op2: piheaan.Plaintext, res: piheaan.Ciphertext) -> None\n",
      " |      \n",
      " |      6. mult(self: piheaan.HomEvaluator, op1: piheaan.Ciphertext, op2: piheaan.Ciphertext, res: piheaan.Ciphertext) -> None\n",
      " |  \n",
      " |  mult_without_rescale(...)\n",
      " |      mult_without_rescale(*args, **kwargs)\n",
      " |      Overloaded function.\n",
      " |      \n",
      " |      1. mult_without_rescale(self: piheaan.HomEvaluator, op1: piheaan.Ciphertext, cnst: complex, res: piheaan.Ciphertext) -> None\n",
      " |      \n",
      " |      2. mult_without_rescale(self: piheaan.HomEvaluator, op1: piheaan.Ciphertext, op2: piheaan.Plaintext, res: piheaan.Ciphertext) -> None\n",
      " |      \n",
      " |      3. mult_without_rescale(self: piheaan.HomEvaluator, op1: piheaan.Ciphertext, op2: piheaan.Ciphertext, res: piheaan.Ciphertext) -> None\n",
      " |  \n",
      " |  negate(...)\n",
      " |      negate(*args, **kwargs)\n",
      " |      Overloaded function.\n",
      " |      \n",
      " |      1. negate(self: piheaan.HomEvaluator, op: piheaan.Message, res: piheaan.Message) -> None\n",
      " |      \n",
      " |      2. negate(self: piheaan.HomEvaluator, op: piheaan.Iphertext, res: piheaan.Iphertext) -> None\n",
      " |      \n",
      " |      3. negate(self: piheaan.HomEvaluator, op: piheaan.Ciphertext, res: piheaan.Ciphertext) -> None\n",
      " |  \n",
      " |  relinearize(...)\n",
      " |      relinearize(self: piheaan.HomEvaluator, op: piheaan.Iphertext, res: piheaan.Ciphertext) -> None\n",
      " |  \n",
      " |  rescale(...)\n",
      " |      rescale(self: piheaan.HomEvaluator, op: piheaan.Ciphertext) -> None\n",
      " |  \n",
      " |  right_rotate(...)\n",
      " |      right_rotate(*args, **kwargs)\n",
      " |      Overloaded function.\n",
      " |      \n",
      " |      1. right_rotate(self: piheaan.HomEvaluator, op: piheaan.Message, rot_idx: int, res: piheaan.Message) -> None\n",
      " |      \n",
      " |      2. right_rotate(self: piheaan.HomEvaluator, op: piheaan.Ciphertext, rot_idx: int, res: piheaan.Ciphertext) -> None\n",
      " |  \n",
      " |  right_rotate_reduce(...)\n",
      " |      right_rotate_reduce(*args, **kwargs)\n",
      " |      Overloaded function.\n",
      " |      \n",
      " |      1. right_rotate_reduce(self: piheaan.HomEvaluator, op: piheaan.Message, idx_interval: int, num_summation: int, ctxt_out: piheaan.Message) -> None\n",
      " |      \n",
      " |      2. right_rotate_reduce(self: piheaan.HomEvaluator, op: piheaan.Ciphertext, idx_interval: int, num_summation: int, ctxt_out: piheaan.Ciphertext) -> None\n",
      " |  \n",
      " |  rot_sum(...)\n",
      " |      rot_sum(self: piheaan.HomEvaluator, op: List[piheaan.Ciphertext], rot_idx: List[int], res: piheaan.Ciphertext) -> None\n",
      " |  \n",
      " |  square(...)\n",
      " |      square(*args, **kwargs)\n",
      " |      Overloaded function.\n",
      " |      \n",
      " |      1. square(self: piheaan.HomEvaluator, op: piheaan.Message, res: piheaan.Message) -> None\n",
      " |      \n",
      " |      2. square(self: piheaan.HomEvaluator, op: piheaan.Ciphertext, res: piheaan.Ciphertext) -> None\n",
      " |  \n",
      " |  sub(...)\n",
      " |      sub(*args, **kwargs)\n",
      " |      Overloaded function.\n",
      " |      \n",
      " |      1. sub(self: piheaan.HomEvaluator, op1: piheaan.Message, cnst: complex, res: piheaan.Message) -> None\n",
      " |      \n",
      " |      2. sub(self: piheaan.HomEvaluator, op1: piheaan.Message, op2: piheaan.Message, res: piheaan.Message) -> None\n",
      " |      \n",
      " |      3. sub(self: piheaan.HomEvaluator, op1: piheaan.Iphertext, op2: piheaan.Iphertext, res: piheaan.Iphertext) -> None\n",
      " |      \n",
      " |      4. sub(self: piheaan.HomEvaluator, op1: piheaan.Ciphertext, cnst: complex, res: piheaan.Ciphertext) -> None\n",
      " |      \n",
      " |      5. sub(self: piheaan.HomEvaluator, op1: piheaan.Ciphertext, op2: piheaan.Message, res: piheaan.Ciphertext) -> None\n",
      " |      \n",
      " |      6. sub(self: piheaan.HomEvaluator, op1: piheaan.Ciphertext, op2: piheaan.Plaintext, res: piheaan.Ciphertext) -> None\n",
      " |      \n",
      " |      7. sub(self: piheaan.HomEvaluator, op1: piheaan.Ciphertext, op2: piheaan.Ciphertext, res: piheaan.Ciphertext) -> None\n",
      " |  \n",
      " |  tensor(...)\n",
      " |      tensor(self: piheaan.HomEvaluator, op1: piheaan.Ciphertext, op2: piheaan.Ciphertext, res: piheaan.Iphertext) -> None\n",
      " |  \n",
      " |  ----------------------------------------------------------------------\n",
      " |  Readonly properties defined here:\n",
      " |  \n",
      " |  min_level_for_bootstrap\n",
      " |  \n",
      " |  min_level_for_bootstrap_extended\n",
      " |  \n",
      " |  ----------------------------------------------------------------------\n",
      " |  Static methods inherited from pybind11_builtins.pybind11_object:\n",
      " |  \n",
      " |  __new__(*args, **kwargs) from pybind11_builtins.pybind11_type\n",
      " |      Create and return a new object.  See help(type) for accurate signature.\n",
      "\n"
     ]
    }
   ],
   "source": [
    "help(heaan.HomEvaluator)"
   ]
  },
  {
   "cell_type": "code",
   "execution_count": 323,
   "metadata": {},
   "outputs": [
    {
     "name": "stdout",
     "output_type": "stream",
     "text": [
      "Help on instancemethod in module piheaan:\n",
      "\n",
      "i_mult(...)\n",
      "    i_mult(*args, **kwargs)\n",
      "    Overloaded function.\n",
      "    \n",
      "    1. i_mult(self: piheaan.HomEvaluator, op: piheaan.Message, res: piheaan.Message) -> None\n",
      "    \n",
      "    2. i_mult(self: piheaan.HomEvaluator, op: piheaan.Ciphertext, res: piheaan.Ciphertext) -> None\n",
      "\n"
     ]
    }
   ],
   "source": [
    "help(heaan.HomEvaluator.i_mult)"
   ]
  },
  {
   "cell_type": "code",
   "execution_count": 254,
   "metadata": {},
   "outputs": [],
   "source": [
    "evaluator = heaan.HomEvaluator(context, public_key)\n",
    "ciphertext_out_add = heaan.Ciphertext(context)\n",
    "ciphertext_out_sub = heaan.Ciphertext(context)\n",
    "ciphertext_out_mul = heaan.Ciphertext(context)\n",
    "\n",
    "evaluator.add(ciphertext1, ciphertext2, ciphertext_out_add)\n",
    "evaluator.sub(ciphertext1, ciphertext2, ciphertext_out_sub)\n",
    "evaluator.mult(ciphertext1, ciphertext2, ciphertext_out_mul)\n",
    "\n",
    "ciphertext_out_scalar_add = heaan.Ciphertext(context)\n",
    "ciphertext_out_scalar_mul = heaan.Ciphertext(context)\n",
    "\n",
    "add_scalar = 13\n",
    "evaluator.add(ciphertext1, add_scalar, ciphertext_out_scalar_add)\n",
    "\n",
    "mul_scalar = 15\n",
    "evaluator.mult(ciphertext1, mul_scalar, ciphertext_out_scalar_mul)"
   ]
  },
  {
   "cell_type": "markdown",
   "metadata": {},
   "source": [
    "### 동형연산 결과 복호화"
   ]
  },
  {
   "cell_type": "code",
   "execution_count": 255,
   "metadata": {},
   "outputs": [
    {
     "name": "stdout",
     "output_type": "stream",
     "text": [
      "ciphertext(add) :  (level: 29, log(num slots): 16, data: [ (1.078980+0.000000j), (1.179947+0.000000j), (1.052042+0.000000j), (0.439897+0.000000j), (1.271655+0.000000j), ..., (1.260194+0.000000j), (1.637360+0.000000j), (0.514404+0.000000j), (1.031703+0.000000j), (1.687750+0.000000j) ])\n",
      "plaintext(add) :  [ (1.078980+0.000000j), (1.179947+0.000000j), (1.052042+0.000000j), (0.439897+0.000000j), (1.271655+0.000000j), ..., (1.260194+0.000000j), (1.637360+0.000000j), (0.514404+0.000000j), (1.031703+0.000000j), (1.687750+0.000000j) ]\n",
      "ciphertext(mul) :  (level: 28, log(num slots): 16, data: [ (0.261436+0.000000j), (0.240860+0.000000j), (0.059808+0.000000j), (0.045927+0.000000j), (0.375140+0.000000j), ..., (0.265750+0.000000j), (0.662373+0.000000j), (0.056842+0.000000j), (0.208494+0.000000j), (0.699562+0.000000j) ])\n"
     ]
    }
   ],
   "source": [
    "decryptor = heaan.Decryptor(context)\n",
    "message_out_add = heaan.Message(log_slots)\n",
    "message_out_sub = heaan.Message(log_slots)\n",
    "message_out_mul = heaan.Message(log_slots)\n",
    "message_out_scalar_add = heaan.Message(log_slots)\n",
    "message_out_scalar_mul = heaan.Message(log_slots)\n",
    "\n",
    "decryptor.decrypt(ciphertext_out_add, secret_key, message_out_add)\n",
    "decryptor.decrypt(ciphertext_out_sub, secret_key, message_out_sub)\n",
    "decryptor.decrypt(ciphertext_out_mul, secret_key, message_out_mul)\n",
    "decryptor.decrypt(ciphertext_out_scalar_add, secret_key, message_out_scalar_add)\n",
    "decryptor.decrypt(ciphertext_out_scalar_mul, secret_key, message_out_scalar_mul)\n",
    "\n",
    "print(\"ciphertext(add) : \", ciphertext_out_add)\n",
    "print(\"plaintext(add) : \", message_out_add)\n",
    "print(\"ciphertext(mul) : \", ciphertext_out_mul)"
   ]
  },
  {
   "cell_type": "code",
   "execution_count": null,
   "metadata": {},
   "outputs": [],
   "source": []
  },
  {
   "cell_type": "markdown",
   "metadata": {},
   "source": [
    "# Application"
   ]
  },
  {
   "cell_type": "code",
   "execution_count": 256,
   "metadata": {},
   "outputs": [
    {
     "data": {
      "text/html": [
       "<div>\n",
       "<style scoped>\n",
       "    .dataframe tbody tr th:only-of-type {\n",
       "        vertical-align: middle;\n",
       "    }\n",
       "\n",
       "    .dataframe tbody tr th {\n",
       "        vertical-align: top;\n",
       "    }\n",
       "\n",
       "    .dataframe thead th {\n",
       "        text-align: right;\n",
       "    }\n",
       "</style>\n",
       "<table border=\"1\" class=\"dataframe\">\n",
       "  <thead>\n",
       "    <tr style=\"text-align: right;\">\n",
       "      <th></th>\n",
       "      <th>0</th>\n",
       "    </tr>\n",
       "  </thead>\n",
       "  <tbody>\n",
       "    <tr>\n",
       "      <th>0</th>\n",
       "      <td>-0.220203</td>\n",
       "    </tr>\n",
       "    <tr>\n",
       "      <th>1</th>\n",
       "      <td>0.550472</td>\n",
       "    </tr>\n",
       "    <tr>\n",
       "      <th>2</th>\n",
       "      <td>0.950894</td>\n",
       "    </tr>\n",
       "    <tr>\n",
       "      <th>3</th>\n",
       "      <td>-0.872803</td>\n",
       "    </tr>\n",
       "    <tr>\n",
       "      <th>4</th>\n",
       "      <td>0.079439</td>\n",
       "    </tr>\n",
       "    <tr>\n",
       "      <th>...</th>\n",
       "      <td>...</td>\n",
       "    </tr>\n",
       "    <tr>\n",
       "      <th>65531</th>\n",
       "      <td>-0.818027</td>\n",
       "    </tr>\n",
       "    <tr>\n",
       "      <th>65532</th>\n",
       "      <td>0.501835</td>\n",
       "    </tr>\n",
       "    <tr>\n",
       "      <th>65533</th>\n",
       "      <td>-0.763764</td>\n",
       "    </tr>\n",
       "    <tr>\n",
       "      <th>65534</th>\n",
       "      <td>-0.813376</td>\n",
       "    </tr>\n",
       "    <tr>\n",
       "      <th>65535</th>\n",
       "      <td>-0.163587</td>\n",
       "    </tr>\n",
       "  </tbody>\n",
       "</table>\n",
       "<p>65536 rows × 1 columns</p>\n",
       "</div>"
      ],
      "text/plain": [
       "              0\n",
       "0     -0.220203\n",
       "1      0.550472\n",
       "2      0.950894\n",
       "3     -0.872803\n",
       "4      0.079439\n",
       "...         ...\n",
       "65531 -0.818027\n",
       "65532  0.501835\n",
       "65533 -0.763764\n",
       "65534 -0.813376\n",
       "65535 -0.163587\n",
       "\n",
       "[65536 rows x 1 columns]"
      ]
     },
     "execution_count": 256,
     "metadata": {},
     "output_type": "execute_result"
    }
   ],
   "source": [
    "import pandas as pd\n",
    "\n",
    "# using data1\n",
    "df = pd.DataFrame(data1)\n",
    "df_cal = 3*(df**3)-2*(df**2)+df-1\n",
    "df_cal"
   ]
  },
  {
   "cell_type": "code",
   "execution_count": 257,
   "metadata": {},
   "outputs": [
    {
     "data": {
      "text/plain": [
       "[ (0.711577+0.000000j), (0.917401+0.000000j), (0.991736+0.000000j), (0.170446+0.000000j), (0.806522+0.000000j), ..., (0.267782+0.000000j), (0.907357+0.000000j), (0.353695+0.000000j), (0.275833+0.000000j), (0.731790+0.000000j) ]"
      ]
     },
     "execution_count": 257,
     "metadata": {},
     "output_type": "execute_result"
    }
   ],
   "source": [
    "message = heaan.Message(log_slots)\n",
    "for i in range(num_slots):\n",
    "    message[i] = data1[i]\n",
    "message"
   ]
  },
  {
   "cell_type": "code",
   "execution_count": 258,
   "metadata": {},
   "outputs": [],
   "source": [
    "enryptor = heaan.Encryptor(context)\n",
    "ciphertext = heaan.Ciphertext(context)\n",
    "encryptor.encrypt(message, public_key, ciphertext)"
   ]
  },
  {
   "cell_type": "code",
   "execution_count": 259,
   "metadata": {},
   "outputs": [
    {
     "data": {
      "text/plain": [
       "((level: 27, log(num slots): 16, data: [ (1.080904+0.000000j), (2.316319+0.000000j), (2.926240+0.000000j), (0.014855+0.000000j), (1.573872+0.000000j), ..., (0.057606+0.000000j), (2.241071+0.000000j), (0.132742+0.000000j), (0.062959+0.000000j), (1.175655+0.000000j) ]),\n",
       " (level: 28, log(num slots): 16, data: [ (-1.012684+0.000000j), (-1.683248+0.000000j), (-1.967082+0.000000j), (-0.058103+0.000000j), (-1.300955+0.000000j), ..., (-0.143414+0.000000j), (-1.646593+0.000000j), (-0.250200+0.000000j), (-0.152167+0.000000j), (-1.071032+0.000000j) ]),\n",
       " (level: 29, log(num slots): 16, data: [ (0.711577+0.000000j), (0.917401+0.000000j), (0.991736+0.000000j), (0.170446+0.000000j), (0.806522+0.000000j), ..., (0.267782+0.000000j), (0.907357+0.000000j), (0.353695+0.000000j), (0.275833+0.000000j), (0.731790+0.000000j) ]))"
      ]
     },
     "execution_count": 259,
     "metadata": {},
     "output_type": "execute_result"
    }
   ],
   "source": [
    "evaluator = heaan.HomEvaluator(context, public_key)\n",
    "\n",
    "ciphertext_out = heaan.Ciphertext(context)\n",
    "ciphertext_x3 = heaan.Ciphertext(context)\n",
    "ciphertext_x2 = heaan.Ciphertext(context)\n",
    "# ciphertext: x\n",
    "\n",
    "evaluator.mult(ciphertext, ciphertext, ciphertext_x2)\n",
    "evaluator.mult(ciphertext_x2, ciphertext, ciphertext_x3)\n",
    "\n",
    "evaluator.mult(ciphertext_x3, 3, ciphertext_x3)\n",
    "evaluator.mult(ciphertext_x2, -2, ciphertext_x2)\n",
    "\n",
    "evaluator.add(ciphertext_x3, ciphertext_x2, ciphertext_out)\n",
    "evaluator.add(ciphertext_out, ciphertext, ciphertext_out)\n",
    "evaluator.add(ciphertext_out, -1, ciphertext_out)\n",
    "\n",
    "ciphertext_x3, ciphertext_x2, ciphertext"
   ]
  },
  {
   "cell_type": "code",
   "execution_count": 260,
   "metadata": {},
   "outputs": [
    {
     "data": {
      "text/plain": [
       "[ (-0.220203+0.000000j), (0.550472+0.000000j), (0.950894+0.000000j), (-0.872803+0.000000j), (0.079439+0.000000j), ..., (-0.818027+0.000000j), (0.501835+0.000000j), (-0.763764+0.000000j), (-0.813376+0.000000j), (-0.163587+0.000000j) ]"
      ]
     },
     "execution_count": 260,
     "metadata": {},
     "output_type": "execute_result"
    }
   ],
   "source": [
    "decryptor = heaan.Decryptor(context)\n",
    "message_out = heaan.Message(log_slots)\n",
    "decryptor.decrypt(ciphertext_out, secret_key, message_out)\n",
    "\n",
    "message_out"
   ]
  },
  {
   "cell_type": "code",
   "execution_count": null,
   "metadata": {},
   "outputs": [],
   "source": []
  },
  {
   "cell_type": "markdown",
   "metadata": {},
   "source": [
    "# 환경 설정"
   ]
  },
  {
   "cell_type": "code",
   "execution_count": 261,
   "metadata": {},
   "outputs": [],
   "source": [
    "import piheaan as heaan\n",
    "from piheaan.math import approx"
   ]
  },
  {
   "cell_type": "code",
   "execution_count": 262,
   "metadata": {},
   "outputs": [
    {
     "name": "stdout",
     "output_type": "stream",
     "text": [
      "message:  [ (0.000000+0.000000j), (1.000000+0.000000j), (2.000000+0.000000j), (3.000000+0.000000j), (4.000000+0.000000j), ..., (65531.000000+0.000000j), (65532.000000+0.000000j), (65533.000000+0.000000j), (65534.000000+0.000000j), (65535.000000+0.000000j) ]\n"
     ]
    }
   ],
   "source": [
    "log_slots = 16\n",
    "num_slots = 2 ** log_slots\n",
    "\n",
    "data = [i for i in range(num_slots)]\n",
    "message = heaan.Message(log_slots)\n",
    "for i in range(num_slots):\n",
    "    message[i] = data[i]\n",
    "print(\"message: \", message)"
   ]
  },
  {
   "cell_type": "code",
   "execution_count": 263,
   "metadata": {},
   "outputs": [
    {
     "name": "stdout",
     "output_type": "stream",
     "text": [
      "Help on instancemethod in module piheaan:\n",
      "\n",
      "conjugate(...)\n",
      "    conjugate(*args, **kwargs)\n",
      "    Overloaded function.\n",
      "    \n",
      "    1. conjugate(self: piheaan.HomEvaluator, op: piheaan.Message, res: piheaan.Message) -> None\n",
      "    \n",
      "    2. conjugate(self: piheaan.HomEvaluator, op: piheaan.Ciphertext, res: piheaan.Ciphertext) -> None\n",
      "\n"
     ]
    }
   ],
   "source": [
    "help(heaan.HomEvaluator.conjugate)"
   ]
  },
  {
   "cell_type": "code",
   "execution_count": null,
   "metadata": {},
   "outputs": [],
   "source": []
  },
  {
   "cell_type": "markdown",
   "metadata": {},
   "source": [
    "# 허수 곱셈, 켤레복소수"
   ]
  },
  {
   "cell_type": "code",
   "execution_count": 264,
   "metadata": {},
   "outputs": [],
   "source": [
    "evaluator = heaan.HomEvaluator(context, public_key)\n",
    "encryptor = heaan.Encryptor(context)\n",
    "decryptor = heaan.Decryptor(context)\n",
    "ciphertext = heaan.Ciphertext(context)\n",
    "encryptor.encrypt(message, public_key, ciphertext)\n",
    "\n",
    "ciphertext_i_mul = heaan.Ciphertext(context)\n",
    "ciphertext_integer_mul = heaan.Ciphertext(context)\n",
    "ciphertext_add_real_imag = heaan.Ciphertext(context)\n",
    "ciphertext_conjugate = heaan.Ciphertext(context)\n",
    "ciphertext_kill_imag = heaan.Ciphertext(context)\n",
    "\n",
    "evaluator.i_mult(ciphertext, ciphertext_i_mul)\n",
    "evaluator.integer_mult(ciphertext, 13, ciphertext_integer_mul)\n",
    "evaluator.add(ciphertext_i_mul, ciphertext_integer_mul, ciphertext_add_real_imag)\n",
    "evaluator.conjugate(ciphertext_add_real_imag, ciphertext_conjugate)\n",
    "evaluator.conjugate(ciphertext_add_real_imag, ciphertext_kill_imag)"
   ]
  },
  {
   "cell_type": "code",
   "execution_count": 265,
   "metadata": {},
   "outputs": [],
   "source": [
    "message_out = heaan.Message(log_slots)\n",
    "message_out_i_mul = heaan.Message(log_slots)\n",
    "message_out_integer_mul = heaan.Message(log_slots)\n",
    "message_out_add_real_imag = heaan.Message(log_slots)\n",
    "message_out_conjugate = heaan.Message(log_slots)\n",
    "message_out_kill_imag = heaan.Message(log_slots)\n",
    "\n",
    "decryptor.decrypt(ciphertext, secret_key, message_out)\n",
    "decryptor.decrypt(ciphertext_i_mul, secret_key, message_out_i_mul)\n",
    "decryptor.decrypt(ciphertext_integer_mul, secret_key, message_out_integer_mul)\n",
    "decryptor.decrypt(ciphertext_add_real_imag, secret_key, message_out_add_real_imag)\n",
    "decryptor.decrypt(ciphertext_conjugate, secret_key, message_out_conjugate)\n",
    "decryptor.decrypt(ciphertext_kill_imag, secret_key, message_out_kill_imag)"
   ]
  },
  {
   "cell_type": "code",
   "execution_count": 266,
   "metadata": {},
   "outputs": [
    {
     "data": {
      "text/plain": [
       "([ (0.000000+0.000000j), (1.000000+0.000000j), (2.000000+0.000000j), (3.000000+0.000000j), (4.000000+0.000000j), ..., (65531.000000+0.000000j), (65532.000000+0.000000j), (65533.000000+0.000000j), (65534.000000+0.000000j), (65535.000000+0.000000j) ],\n",
       " [ (0.000000+0.000000j), (0.000000+1.000000j), (0.000000+2.000000j), (0.000000+3.000000j), (0.000000+4.000000j), ..., (0.000000+65531.000000j), (0.000000+65532.000000j), (0.000000+65533.000000j), (0.000000+65534.000000j), (0.000000+65535.000000j) ])"
      ]
     },
     "execution_count": 266,
     "metadata": {},
     "output_type": "execute_result"
    }
   ],
   "source": [
    "message_out, message_out_i_mul"
   ]
  },
  {
   "cell_type": "code",
   "execution_count": null,
   "metadata": {},
   "outputs": [],
   "source": []
  },
  {
   "cell_type": "markdown",
   "metadata": {},
   "source": [
    "# 부트스트랩"
   ]
  },
  {
   "cell_type": "code",
   "execution_count": 267,
   "metadata": {},
   "outputs": [
    {
     "name": "stdout",
     "output_type": "stream",
     "text": [
      "Help on instancemethod in module piheaan:\n",
      "\n",
      "bootstrap(...)\n",
      "    bootstrap(*args, **kwargs)\n",
      "    Overloaded function.\n",
      "    \n",
      "    1. bootstrap(self: piheaan.HomEvaluator, op: piheaan.Ciphertext, res: piheaan.Ciphertext, is_complex: bool = False) -> None\n",
      "    \n",
      "    2. bootstrap(self: piheaan.HomEvaluator, op: piheaan.Ciphertext, res1: piheaan.Ciphertext, res2: piheaan.Ciphertext) -> None\n",
      "    \n",
      "    3. bootstrap(self: piheaan.HomEvaluator, op1: piheaan.Ciphertext, op2: piheaan.Ciphertext, res1: piheaan.Ciphertext, res2: piheaan.Ciphertext) -> None\n",
      "\n"
     ]
    }
   ],
   "source": [
    "help(heaan.HomEvaluator.bootstrap)"
   ]
  },
  {
   "cell_type": "code",
   "execution_count": 268,
   "metadata": {},
   "outputs": [
    {
     "name": "stdout",
     "output_type": "stream",
     "text": [
      "current ciphertext's level:  29\n"
     ]
    }
   ],
   "source": [
    "print(\"current ciphertext's level: \", ciphertext.level)"
   ]
  },
  {
   "cell_type": "code",
   "execution_count": null,
   "metadata": {},
   "outputs": [],
   "source": []
  },
  {
   "cell_type": "markdown",
   "metadata": {},
   "source": [
    "# 로테이션"
   ]
  },
  {
   "cell_type": "code",
   "execution_count": 269,
   "metadata": {},
   "outputs": [
    {
     "name": "stdout",
     "output_type": "stream",
     "text": [
      "평문 로테이션:  [ (4.000000+0.000000j), (5.000000+0.000000j), (6.000000+0.000000j), (7.000000+0.000000j), (8.000000+0.000000j), ..., (65535.000000+0.000000j), (0.000000+0.000000j), (1.000000+0.000000j), (2.000000+0.000000j), (3.000000+0.000000j) ]\n",
      "\n",
      "left 로테이션:  [ (4.000000+0.000000j), (5.000000+0.000000j), (6.000000+0.000000j), (7.000000+0.000000j), (8.000000+0.000000j), ..., (65535.000000+0.000000j), (0.000000+0.000000j), (1.000000+0.000000j), (2.000000+0.000000j), (3.000000+0.000000j) ]\n",
      "\n"
     ]
    }
   ],
   "source": [
    "message_left_rotate = heaan.Message(log_slots)\n",
    "ciphertext_left_rotate = heaan.Ciphertext(context)\n",
    "evaluator.left_rotate(message, 4, message_left_rotate)\n",
    "evaluator.left_rotate(ciphertext, 4, ciphertext_left_rotate)\n",
    "\n",
    "message_out_left_rotate = heaan.Message(log_slots)\n",
    "\n",
    "decryptor.decrypt(ciphertext_left_rotate, secret_key, message_out_left_rotate)\n",
    "\n",
    "print(\"평문 로테이션: \", message_left_rotate)\n",
    "print()\n",
    "print(\"left 로테이션: \", message_out_left_rotate)\n",
    "print()"
   ]
  },
  {
   "cell_type": "code",
   "execution_count": null,
   "metadata": {},
   "outputs": [],
   "source": []
  },
  {
   "cell_type": "markdown",
   "metadata": {},
   "source": [
    "# 역수 (inverse)"
   ]
  },
  {
   "cell_type": "code",
   "execution_count": 270,
   "metadata": {},
   "outputs": [
    {
     "data": {
      "text/plain": [
       "(level: 3, log(num slots): 16, data: [ (128.000000+0.000000j), (1.000000+0.000000j), (0.500000+0.000000j), (0.333333+0.000000j), (0.250000+0.000000j), ..., (0.000015+0.000000j), (0.000015+0.000000j), (0.000015+0.000000j), (0.000015+0.000000j), (0.000015+0.000000j) ])"
      ]
     },
     "execution_count": 270,
     "metadata": {},
     "output_type": "execute_result"
    }
   ],
   "source": [
    "ciphertext = heaan.Ciphertext(context)\n",
    "ciphertext_inv = heaan.Ciphertext(context)\n",
    "\n",
    "encryptor.encrypt(message, public_key, ciphertext)\n",
    "approx.inverse(evaluator, ciphertext, ciphertext_inv)\n",
    "\n",
    "decryptor = heaan.Decryptor(context)\n",
    "message_out_inv = heaan.Message(log_slots)\n",
    "\n",
    "decryptor.decrypt(ciphertext_inv, secret_key, message_out_inv)\n",
    "\n",
    "ciphertext_inv"
   ]
  },
  {
   "cell_type": "code",
   "execution_count": null,
   "metadata": {},
   "outputs": [],
   "source": []
  },
  {
   "cell_type": "markdown",
   "metadata": {},
   "source": [
    "# 정렬"
   ]
  },
  {
   "cell_type": "code",
   "execution_count": 271,
   "metadata": {},
   "outputs": [
    {
     "name": "stdout",
     "output_type": "stream",
     "text": [
      "Help on module piheaan.math.sort in piheaan.math:\n",
      "\n",
      "NAME\n",
      "    piheaan.math.sort - sort submodule\n",
      "\n",
      "FUNCTIONS\n",
      "    sort(...) method of builtins.PyCapsule instance\n",
      "        sort(eval: piheaan.HomEvaluator, op: piheaan.Ciphertext, res: piheaan.Ciphertext, n: int, ascent: bool) -> None\n",
      "\n",
      "FILE\n",
      "    (built-in)\n",
      "\n",
      "\n"
     ]
    }
   ],
   "source": [
    "help(heaan.math.sort)"
   ]
  },
  {
   "cell_type": "code",
   "execution_count": 272,
   "metadata": {},
   "outputs": [],
   "source": [
    "from piheaan.math import sort"
   ]
  },
  {
   "cell_type": "code",
   "execution_count": 273,
   "metadata": {},
   "outputs": [
    {
     "data": {
      "text/plain": [
       "[ (-0.435308+0.000000j), (0.167958+0.000000j), (0.298201+0.000000j), (0.343604+0.000000j), (-0.423174+0.000000j), ..., (0.374365+0.000000j), (-0.341275+0.000000j), (-0.443674+0.000000j), (-0.051992+0.000000j), (0.002581+0.000000j) ]"
      ]
     },
     "execution_count": 273,
     "metadata": {},
     "output_type": "execute_result"
    }
   ],
   "source": [
    "log_slots = 7\n",
    "num_slots = 2 ** log_slots\n",
    "\n",
    "data = np.random.uniform(size = num_slots) - 0.5\n",
    "message = heaan.Message(log_slots)\n",
    "for i in range(num_slots):\n",
    "    message[i] = data[i]\n",
    "message"
   ]
  },
  {
   "cell_type": "code",
   "execution_count": 274,
   "metadata": {},
   "outputs": [
    {
     "data": {
      "text/plain": [
       "(level: 29, log(num slots): 7, data: [ (-0.435308+0.000000j), (0.167958+0.000000j), (0.298201+0.000000j), (0.343604+0.000000j), (-0.423174+0.000000j), ..., (0.374365+0.000000j), (-0.341275+0.000000j), (-0.443674+0.000000j), (-0.051992+0.000000j), (0.002581+0.000000j) ])"
      ]
     },
     "execution_count": 274,
     "metadata": {},
     "output_type": "execute_result"
    }
   ],
   "source": [
    "evaluator = heaan.HomEvaluator(context, public_key)\n",
    "encryptor = heaan.Encryptor(context)\n",
    "decryptor = heaan.Decryptor(context)\n",
    "ciphertext = heaan.Ciphertext(context)\n",
    "\n",
    "encryptor.encrypt(message, public_key, ciphertext)\n",
    "ciphertext"
   ]
  },
  {
   "cell_type": "code",
   "execution_count": 275,
   "metadata": {},
   "outputs": [
    {
     "name": "stdout",
     "output_type": "stream",
     "text": [
      "index pair in unitSort :0, 1\n",
      "index pair in unitSort :1, 2\n",
      "index pair in unitSort :1, 1\n",
      "index pair in unitSort :2, 4\n",
      "index pair in unitSort :2, 2\n",
      "index pair in unitSort :2, 1\n",
      "index pair in unitSort :3, 8\n",
      "index pair in unitSort :3, 4\n",
      "index pair in unitSort :3, 2\n",
      "index pair in unitSort :3, 1\n",
      "index pair in unitSort :4, 16\n",
      "index pair in unitSort :4, 8\n",
      "index pair in unitSort :4, 4\n",
      "index pair in unitSort :4, 2\n",
      "index pair in unitSort :4, 1\n",
      "index pair in unitSort :5, 32\n",
      "index pair in unitSort :5, 16\n",
      "index pair in unitSort :5, 8\n",
      "index pair in unitSort :5, 4\n",
      "index pair in unitSort :5, 2\n",
      "index pair in unitSort :5, 1\n",
      "index pair in unitSort :6, 64\n",
      "index pair in unitSort :6, 32\n",
      "index pair in unitSort :6, 16\n",
      "index pair in unitSort :6, 8\n",
      "index pair in unitSort :6, 4\n",
      "index pair in unitSort :6, 2\n",
      "index pair in unitSort :6, 1\n"
     ]
    },
    {
     "data": {
      "text/plain": [
       "[ (0.497746+0.000000j), (0.493523+0.000000j), (0.482772+0.000000j), (0.474503+0.000000j), (0.470245+0.000000j), ..., (-0.474799+0.000000j), (-0.480215+0.000000j), (-0.485649+0.000000j), (-0.489122+0.000000j), (-0.492809+0.000000j) ]"
      ]
     },
     "execution_count": 275,
     "metadata": {},
     "output_type": "execute_result"
    }
   ],
   "source": [
    "# input range : -0.5 ~ 0.5\n",
    "\n",
    "ciphertext_out_sort = heaan.Ciphertext(context)\n",
    "sort.sort(evaluator, ciphertext, ciphertext_out_sort, num_slots, 0)\n",
    "\n",
    "message_out_sort = heaan.Message(log_slots)\n",
    "\n",
    "decryptor.decrypt(ciphertext_out_sort, secret_key, message_out_sort)\n",
    "\n",
    "message_out_sort"
   ]
  },
  {
   "cell_type": "code",
   "execution_count": null,
   "metadata": {},
   "outputs": [],
   "source": []
  },
  {
   "cell_type": "markdown",
   "metadata": {},
   "source": [
    "# 양수/음수 표시"
   ]
  },
  {
   "cell_type": "code",
   "execution_count": 276,
   "metadata": {},
   "outputs": [
    {
     "name": "stdout",
     "output_type": "stream",
     "text": [
      "Help on built-in function sign in module piheaan.math.approx:\n",
      "\n",
      "sign(...) method of builtins.PyCapsule instance\n",
      "    sign(eval: piheaan.HomEvaluator, op: piheaan.Ciphertext, res: piheaan.Ciphertext, numiter_g: int = 8, numiter_f: int = 3) -> None\n",
      "\n"
     ]
    }
   ],
   "source": [
    "help(heaan.math.approx.sign)"
   ]
  },
  {
   "cell_type": "code",
   "execution_count": null,
   "metadata": {},
   "outputs": [],
   "source": []
  },
  {
   "cell_type": "markdown",
   "metadata": {},
   "source": [
    "# 대소비교"
   ]
  },
  {
   "cell_type": "code",
   "execution_count": 277,
   "metadata": {},
   "outputs": [
    {
     "data": {
      "text/plain": [
       "([ (0.195689+0.000000j), (0.919228+0.000000j), (0.357137+0.000000j), (0.707016+0.000000j), (0.506166+0.000000j), ..., (0.453547+0.000000j), (0.461206+0.000000j), (0.979148+0.000000j), (0.407827+0.000000j), (0.220153+0.000000j) ],\n",
       " [ (0.884516+0.000000j), (0.417879+0.000000j), (0.554983+0.000000j), (0.798899+0.000000j), (0.297843+0.000000j), ..., (0.400964+0.000000j), (0.164728+0.000000j), (0.593977+0.000000j), (0.198927+0.000000j), (0.203224+0.000000j) ])"
      ]
     },
     "execution_count": 277,
     "metadata": {},
     "output_type": "execute_result"
    }
   ],
   "source": [
    "# range : 1 < ... < 2^18\n",
    "\n",
    "log_slots = 16\n",
    "num_slots = 2 ** log_slots\n",
    "\n",
    "data1 = np.random.uniform(size=num_slots)\n",
    "data2 = np.random.uniform(size=num_slots)\n",
    "message1 = heaan.Message(log_slots)\n",
    "message2 = heaan.Message(log_slots)\n",
    "\n",
    "for i in range(num_slots):\n",
    "    message1[i] = data1[i]\n",
    "    message2[i] = data2[i]\n",
    "    \n",
    "message1, message2"
   ]
  },
  {
   "cell_type": "code",
   "execution_count": 278,
   "metadata": {},
   "outputs": [],
   "source": [
    "encryptor = heaan.Encryptor(context)\n",
    "ciphertext1 = heaan.Ciphertext(context)\n",
    "ciphertext2 = heaan.Ciphertext(context)\n",
    "ciphertext_out_comp = heaan.Ciphertext(context)\n",
    "\n",
    "encryptor.encrypt(message1, public_key, ciphertext1)\n",
    "encryptor.encrypt(message2, public_key, ciphertext2)"
   ]
  },
  {
   "cell_type": "code",
   "execution_count": 279,
   "metadata": {},
   "outputs": [
    {
     "data": {
      "text/plain": [
       "[ (0.000000+0.000000j), (1.000000+0.000000j), (0.000000+0.000000j), (0.000000+0.000000j), (1.000000+0.000000j), ..., (1.000000+0.000000j), (1.000000+0.000000j), (1.000000+0.000000j), (1.000000+0.000000j), (1.000000+0.000000j) ]"
      ]
     },
     "execution_count": 279,
     "metadata": {},
     "output_type": "execute_result"
    }
   ],
   "source": [
    "evaluator = heaan.HomEvaluator(context, public_key)\n",
    "\n",
    "approx.compare(evaluator, ciphertext1, ciphertext2, ciphertext_out_comp)\n",
    "\n",
    "decryptor = heaan.Decryptor(context)\n",
    "message_out_comp = heaan.Message(log_slots)\n",
    "decryptor.decrypt(ciphertext_out_comp, secret_key, message_out_comp)\n",
    "message_out_comp"
   ]
  },
  {
   "cell_type": "code",
   "execution_count": null,
   "metadata": {},
   "outputs": [],
   "source": []
  },
  {
   "cell_type": "markdown",
   "metadata": {},
   "source": [
    "# 환경 설정"
   ]
  },
  {
   "cell_type": "code",
   "execution_count": 280,
   "metadata": {},
   "outputs": [
    {
     "data": {
      "text/plain": [
       "([ (0.267282+0.000000j), (0.648373+0.000000j), (0.205320+0.000000j), (0.593451+0.000000j), (0.521289+0.000000j), ..., (0.404999+0.000000j), (0.397154+0.000000j), (0.725091+0.000000j), (0.137043+0.000000j), (0.334082+0.000000j) ],\n",
       " [ (0.843525+0.000000j), (0.335459+0.000000j), (0.630958+0.000000j), (0.493591+0.000000j), (0.754243+0.000000j), ..., (0.949297+0.000000j), (0.306481+0.000000j), (0.164909+0.000000j), (0.226258+0.000000j), (0.342132+0.000000j) ])"
      ]
     },
     "execution_count": 280,
     "metadata": {},
     "output_type": "execute_result"
    }
   ],
   "source": [
    "import numpy as np\n",
    "import piheaan as heaan\n",
    "\n",
    "log_slots = 7\n",
    "num_slots = 2 ** log_slots\n",
    "\n",
    "data1 = np.random.uniform(size=num_slots)\n",
    "data2 = np.random.uniform(size=num_slots)\n",
    "\n",
    "message1 = heaan.Message(log_slots)\n",
    "message2 = heaan.Message(log_slots)\n",
    "\n",
    "for i in range(num_slots):\n",
    "    message1[i] = data1[i]\n",
    "    message2[i] = data2[i]\n",
    "    \n",
    "# params: 동형암호 파라미터\n",
    "params = heaan.ParameterPreset.FVa\n",
    "# context: \n",
    "context = heaan.make_context(params)\n",
    "heaan.make_bootstrappable(context)\n",
    "# default: bootstrapping X\n",
    "\n",
    "key_dir_path = \"./key_new\"\n",
    "secret_key = heaan.SecretKey(context)\n",
    "secret_key.save(\"./secret_key.bin\")\n",
    "key_generator = heaan.KeyGenerator(context, secret_key)\n",
    "key_generator.gen_common_keys()\n",
    "key_generator.save(key_dir_path)\n",
    "public_key = key_generator.keypack\n",
    "    \n",
    "message1, message2"
   ]
  },
  {
   "cell_type": "code",
   "execution_count": 281,
   "metadata": {},
   "outputs": [],
   "source": [
    "encryptor = heaan.Encryptor(context)\n",
    "ciphertext1 = heaan.Ciphertext(context)\n",
    "ciphertext2 = heaan.Ciphertext(context)\n",
    "\n",
    "encryptor.encrypt(message1, public_key, ciphertext1)\n",
    "encryptor.encrypt(message2, public_key, ciphertext2)"
   ]
  },
  {
   "cell_type": "code",
   "execution_count": null,
   "metadata": {},
   "outputs": [],
   "source": []
  },
  {
   "cell_type": "markdown",
   "metadata": {},
   "source": [
    "# 덧셈"
   ]
  },
  {
   "cell_type": "code",
   "execution_count": 282,
   "metadata": {},
   "outputs": [
    {
     "name": "stdout",
     "output_type": "stream",
     "text": [
      "Help on instancemethod in module piheaan:\n",
      "\n",
      "add(...)\n",
      "    add(*args, **kwargs)\n",
      "    Overloaded function.\n",
      "    \n",
      "    1. add(self: piheaan.HomEvaluator, op1: piheaan.Message, cnst: complex, res: piheaan.Message) -> None\n",
      "    \n",
      "    2. add(self: piheaan.HomEvaluator, op1: piheaan.Message, op2: piheaan.Message, res: piheaan.Message) -> None\n",
      "    \n",
      "    3. add(self: piheaan.HomEvaluator, op1: piheaan.Iphertext, op2: piheaan.Iphertext, res: piheaan.Iphertext) -> None\n",
      "    \n",
      "    4. add(self: piheaan.HomEvaluator, op1: piheaan.Ciphertext, cnst: complex, res: piheaan.Ciphertext) -> None\n",
      "    \n",
      "    5. add(self: piheaan.HomEvaluator, op1: piheaan.Ciphertext, op2: piheaan.Message, res: piheaan.Ciphertext) -> None\n",
      "    \n",
      "    6. add(self: piheaan.HomEvaluator, op1: piheaan.Ciphertext, op2: piheaan.Plaintext, res: piheaan.Ciphertext) -> None\n",
      "    \n",
      "    7. add(self: piheaan.HomEvaluator, op1: piheaan.Ciphertext, op2: piheaan.Ciphertext, res: piheaan.Ciphertext) -> None\n",
      "\n"
     ]
    }
   ],
   "source": [
    "help(heaan.HomEvaluator.add)\n",
    "# iphertext : relinearization 후 rescaling X"
   ]
  },
  {
   "cell_type": "code",
   "execution_count": 283,
   "metadata": {},
   "outputs": [
    {
     "data": {
      "text/plain": [
       "([ (0.267282+0.000000j), (0.648373+0.000000j), (0.205320+0.000000j), (0.593451+0.000000j), (0.521289+0.000000j), ..., (0.404999+0.000000j), (0.397154+0.000000j), (0.725091+0.000000j), (0.137043+0.000000j), (0.334082+0.000000j) ],\n",
       " [ (13.267282+5.000000j), (13.648373+5.000000j), (13.205320+5.000000j), (13.593451+5.000000j), (13.521289+5.000000j), ..., (13.404999+5.000000j), (13.397154+5.000000j), (13.725091+5.000000j), (13.137043+5.000000j), (13.334082+5.000000j) ])"
      ]
     },
     "execution_count": 283,
     "metadata": {},
     "output_type": "execute_result"
    }
   ],
   "source": [
    "evaluator = heaan.HomEvaluator(context, public_key)\n",
    "\n",
    "message_out_add1 = heaan.Message(log_slots)\n",
    "ciphertext_out_add1 = heaan.Ciphertext(context)\n",
    "evaluator.add(message1, 13+5j, message_out_add1)\n",
    "message1, message_out_add1"
   ]
  },
  {
   "cell_type": "code",
   "execution_count": 284,
   "metadata": {},
   "outputs": [
    {
     "name": "stdout",
     "output_type": "stream",
     "text": [
      "[ (0.000000+0.000000j), (1.000000+0.000000j), (2.000000+0.000000j), (3.000000+0.000000j), (4.000000+0.000000j), ..., (123.000000+0.000000j), (124.000000+0.000000j), (125.000000+0.000000j), (126.000000+0.000000j), (127.000000+0.000000j) ]\n",
      "[ (0.000000+0.000000j), (1.000000+0.000000j), (2.000000+0.000000j), (3.000000+0.000000j), (4.000000+0.000000j), ..., (123.000000+0.000000j), (124.000000+0.000000j), (125.000000+0.000000j), (126.000000+0.000000j), (127.000000+0.000000j) ]\n"
     ]
    }
   ],
   "source": [
    "temp1 = heaan.Message(log_slots)\n",
    "temp2 = heaan.Message(log_slots)\n",
    "for i in range(num_slots):\n",
    "    temp1[i] = i\n",
    "    temp2[i] = i\n",
    "print(temp1)\n",
    "print(temp2)"
   ]
  },
  {
   "cell_type": "code",
   "execution_count": 285,
   "metadata": {},
   "outputs": [
    {
     "name": "stdout",
     "output_type": "stream",
     "text": [
      "[ (0.000000+0.000000j), (2.000000+0.000000j), (4.000000+0.000000j), (6.000000+0.000000j), (8.000000+0.000000j), ..., (246.000000+0.000000j), (248.000000+0.000000j), (250.000000+0.000000j), (252.000000+0.000000j), (254.000000+0.000000j) ]\n"
     ]
    }
   ],
   "source": [
    "evaluator.add(temp1, temp2, temp1)\n",
    "print(temp1)"
   ]
  },
  {
   "cell_type": "markdown",
   "metadata": {},
   "source": [
    "# 곱셈"
   ]
  },
  {
   "cell_type": "code",
   "execution_count": 286,
   "metadata": {},
   "outputs": [
    {
     "name": "stdout",
     "output_type": "stream",
     "text": [
      "Help on instancemethod in module piheaan:\n",
      "\n",
      "mult(...)\n",
      "    mult(*args, **kwargs)\n",
      "    Overloaded function.\n",
      "    \n",
      "    1. mult(self: piheaan.HomEvaluator, op1: piheaan.Message, cnst: complex, res: piheaan.Message) -> None\n",
      "    \n",
      "    2. mult(self: piheaan.HomEvaluator, op1: piheaan.Message, op2: piheaan.Message, res: piheaan.Message) -> None\n",
      "    \n",
      "    3. mult(self: piheaan.HomEvaluator, op1: piheaan.Ciphertext, cnst: complex, res: piheaan.Ciphertext) -> None\n",
      "    \n",
      "    4. mult(self: piheaan.HomEvaluator, op1: piheaan.Ciphertext, op2: piheaan.Message, res: piheaan.Ciphertext) -> None\n",
      "    \n",
      "    5. mult(self: piheaan.HomEvaluator, op1: piheaan.Ciphertext, op2: piheaan.Plaintext, res: piheaan.Ciphertext) -> None\n",
      "    \n",
      "    6. mult(self: piheaan.HomEvaluator, op1: piheaan.Ciphertext, op2: piheaan.Ciphertext, res: piheaan.Ciphertext) -> None\n",
      "\n"
     ]
    }
   ],
   "source": [
    "help(heaan.HomEvaluator.mult)"
   ]
  },
  {
   "cell_type": "code",
   "execution_count": null,
   "metadata": {},
   "outputs": [],
   "source": []
  },
  {
   "cell_type": "markdown",
   "metadata": {},
   "source": [
    "# 평균과 분산"
   ]
  },
  {
   "cell_type": "code",
   "execution_count": 287,
   "metadata": {},
   "outputs": [],
   "source": [
    "log_slots = 7\n",
    "num_slots = 2 ** log_slots\n",
    "\n",
    "data = [i for i in range(num_slots)]\n",
    "message1 = heaan.Message(log_slots)\n",
    "message2 = heaan.Message(log_slots)\n",
    "message3 = heaan.Message(log_slots)\n",
    "\n",
    "for i in range(num_slots):\n",
    "    message1[i] = data[i]\n",
    "    message2[i] = data[i]\n",
    "    message3[i] = data[i]"
   ]
  },
  {
   "cell_type": "code",
   "execution_count": 288,
   "metadata": {},
   "outputs": [],
   "source": [
    "def cal_avg(ciphertext, N):\n",
    "    evaluator = heaan.HomEvaluator(context, public_key)   \n",
    "    ciphertext_out_avg = heaan.Ciphertext(context, log_slots)\n",
    "    \n",
    "    for i in range(N):\n",
    "        evaluator.add(ciphertext, ciphertext_out_avg, ciphertext_out_avg)\n",
    "        evaluator.right_rotate(ciphertext, 1, ciphertext)\n",
    "    \n",
    "    evaluator.mult(ciphertext_out_avg, 1/N, ciphertext_out_avg)\n",
    "    return ciphertext_out_avg"
   ]
  },
  {
   "cell_type": "code",
   "execution_count": 289,
   "metadata": {},
   "outputs": [
    {
     "data": {
      "text/plain": [
       "(level: 29, log(num slots): 7, data: [ (0.000000+0.000000j), (1.000000+0.000000j), (2.000000+0.000000j), (3.000000+0.000000j), (4.000000+0.000000j), ..., (123.000000+0.000000j), (124.000000+0.000000j), (125.000000+0.000000j), (126.000000+0.000000j), (127.000000+0.000000j) ])"
      ]
     },
     "execution_count": 289,
     "metadata": {},
     "output_type": "execute_result"
    }
   ],
   "source": [
    "encryptor = heaan.Encryptor(context)\n",
    "ciphertext1 = heaan.Ciphertext(context)\n",
    "encryptor.encrypt(message1, public_key, ciphertext1)\n",
    "ciphertext1"
   ]
  },
  {
   "cell_type": "code",
   "execution_count": 290,
   "metadata": {},
   "outputs": [],
   "source": [
    "ciphertext_out_avg = heaan.Ciphertext(context)\n",
    "ciphertext_out_avg = cal_avg(ciphertext1, num_slots)"
   ]
  },
  {
   "cell_type": "code",
   "execution_count": 291,
   "metadata": {},
   "outputs": [],
   "source": [
    "decryptor = heaan.Decryptor(context)\n",
    "message_out_avg = heaan.Message(log_slots)\n",
    "decryptor.decrypt(ciphertext_out_avg, secret_key, message_out_avg)"
   ]
  },
  {
   "cell_type": "code",
   "execution_count": 292,
   "metadata": {},
   "outputs": [
    {
     "data": {
      "text/plain": [
       "[ (63.500000+0.000000j), (63.500000+0.000000j), (63.500000+0.000000j), (63.500000+0.000000j), (63.500000+0.000000j), ..., (63.500000+0.000000j), (63.500000+0.000000j), (63.500000+0.000000j), (63.500000+0.000000j), (63.500000+0.000000j) ]"
      ]
     },
     "execution_count": 292,
     "metadata": {},
     "output_type": "execute_result"
    }
   ],
   "source": [
    "message_out_avg"
   ]
  },
  {
   "cell_type": "code",
   "execution_count": 293,
   "metadata": {},
   "outputs": [],
   "source": [
    "import math\n",
    "\n",
    "def ctxt_avg(ciphertext, N):\n",
    "    ciphertext_derivation = heaan.Ciphertext(context)\n",
    "    for i in range(int(math.log(N, 2))):\n",
    "        ciphertext_temp = heaan.Ciphertext(context)\n",
    "        evaluator.left_rotate(ciphertext, 2 ** i, ciphertext_temp)\n",
    "        evaluator.add(ciphertext, ciphertext_temp, ciphertext_derivation)\n",
    "        pass\n",
    "    ciphertext_avg = heaan.Ciphertext(context)\n",
    "    evaluator.mult(ciphertext_derivation, 1/N, ciphertext_avg)\n",
    "    \n",
    "    return ciphertext_avg"
   ]
  },
  {
   "cell_type": "code",
   "execution_count": 303,
   "metadata": {},
   "outputs": [
    {
     "name": "stdout",
     "output_type": "stream",
     "text": [
      "(level: 29, log(num slots): 7, data: [ (0.000000+0.000000j), (1.000000+0.000000j), (2.000000+0.000000j), (3.000000+0.000000j), (4.000000+0.000000j), ..., (123.000000+0.000000j), (124.000000+0.000000j), (125.000000+0.000000j), (126.000000+0.000000j), (127.000000+0.000000j) ])\n",
      "(level: 28, log(num slots): 7, data: [ (0.500000+0.000000j), (0.515625+0.000000j), (0.531250+0.000000j), (0.546875+0.000000j), (0.562500+0.000000j), ..., (1.421875+0.000000j), (1.437500+0.000000j), (1.453125+0.000000j), (1.468750+0.000000j), (1.484375+0.000000j) ])\n",
      "(level: 28, log(num slots): 7, data: [ (63.500000+0.000000j), (63.500000+0.000000j), (63.500000+0.000000j), (63.500000+0.000000j), (63.500000+0.000000j), ..., (63.500000+0.000000j), (63.500000+0.000000j), (63.500000+0.000000j), (63.500000+0.000000j), (63.500000+0.000000j) ])\n"
     ]
    }
   ],
   "source": [
    "ctxt_avg_out = ctxt_avg(ciphertext1, num_slots)\n",
    "print(ciphertext1)\n",
    "print(ctxt_avg_out)\n",
    "print(ciphertext_out_avg)"
   ]
  },
  {
   "cell_type": "code",
   "execution_count": 321,
   "metadata": {},
   "outputs": [],
   "source": [
    "def cal_variation(ciphertext, ciphertext_avg, N):\n",
    "    log_slots = int(math.log(N, 2))\n",
    "    ciphertext_derivation = heaan.Ciphertext(context, log_slots)\n",
    "    evaluator = heaan.HomEvaluator(context, public_key)\n",
    "    \n",
    "    evaluator.sub(ciphertext, ciphertext_avg, ciphertext_derivation)\n",
    "    evaluator.mult(ciphertext_derivation, ciphertext_derivation, ciphertext_derivation)\n",
    "    \n",
    "    ciphertext_derivation = cal_avg(ciphertext_derivation, N)\n",
    "    \n",
    "    return ciphertext_derivation"
   ]
  },
  {
   "cell_type": "code",
   "execution_count": 322,
   "metadata": {},
   "outputs": [
    {
     "name": "stdout",
     "output_type": "stream",
     "text": [
      "sub:  (level: 28, log(num slots): 7, data: [ (-63.500000+0.000000j), (-62.500000+0.000000j), (-61.500000+0.000000j), (-60.500000+0.000000j), (-59.500000+0.000000j), ..., (59.500000+0.000000j), (60.500000+0.000000j), (61.500000+0.000000j), (62.500000+0.000000j), (63.500000+0.000000j) ])\n",
      "mult:  (level: 27, log(num slots): 7, data: [ (4032.250000+0.000000j), (3906.250000+0.000000j), (3782.250000+0.000000j), (3660.250000+0.000000j), (3540.250000+0.000000j), ..., (3540.250000+0.000000j), (3660.250000+0.000000j), (3782.250000+0.000000j), (3906.250000+0.000000j), (4032.250000+0.000000j) ])\n",
      "(level: 26, log(num slots): 7, data: [ (1365.250000+0.000000j), (1365.250000+0.000000j), (1365.250000+0.000000j), (1365.250000+0.000000j), (1365.250000+0.000000j), ..., (1365.250000+0.000000j), (1365.250000+0.000000j), (1365.250000+0.000000j), (1365.250000+0.000000j), (1365.250000+0.000000j) ])\n",
      "128\n"
     ]
    }
   ],
   "source": [
    "ciphertext_out_variation = heaan.Ciphertext(context, log_slots)\n",
    "ciphertext_out_variation = cal_variation(ciphertext1, ciphertext_out_avg, num_slots)\n",
    "print(ciphertext_out_variation)\n",
    "print(num_slots)"
   ]
  }
 ],
 "metadata": {
  "kernelspec": {
   "display_name": "Python 3 (ipykernel)",
   "language": "python",
   "name": "python3"
  },
  "language_info": {
   "codemirror_mode": {
    "name": "ipython",
    "version": 3
   },
   "file_extension": ".py",
   "mimetype": "text/x-python",
   "name": "python",
   "nbconvert_exporter": "python",
   "pygments_lexer": "ipython3",
   "version": "3.10.14"
  }
 },
 "nbformat": 4,
 "nbformat_minor": 2
}
