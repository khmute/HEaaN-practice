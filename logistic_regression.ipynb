{
 "cells": [
  {
   "cell_type": "code",
   "execution_count": 2,
   "id": "94f5f351",
   "metadata": {},
   "outputs": [],
   "source": [
    "import pandas  as pd\n",
    "from sklearn.preprocessing import StandardScaler"
   ]
  },
  {
   "cell_type": "code",
   "execution_count": 3,
   "id": "58913ef1",
   "metadata": {},
   "outputs": [],
   "source": [
    "train = pd.read_csv(\"train.csv\")\n",
    "features = train.columns\n",
    "train_x = train[features[1:-1]]\n",
    "train_y = train[features[-1]]"
   ]
  },
  {
   "cell_type": "code",
   "execution_count": 4,
   "id": "69a7be88",
   "metadata": {},
   "outputs": [
    {
     "data": {
      "text/plain": [
       "(      LVR  REF  INSUR   RATE   AMOUNT  CREDIT  TERM  ARM\n",
       " 0    69.8    1      1  7.400  1.78000     558    30    1\n",
       " 1    95.0    0      0  9.625  2.96065     508    30    1\n",
       " 2    85.0    1      1  7.700  0.97750     549    30    1\n",
       " 3    80.0    0      0  7.700  1.48000     602    30    1\n",
       " 4    43.4    1      1  6.450  1.15000     533    30    1\n",
       " ..    ...  ...    ...    ...      ...     ...   ...  ...\n",
       " 507  76.2    1      1  7.900  1.29600     529    30    1\n",
       " 508  85.0    1      0  6.450  2.38000     636    30    0\n",
       " 509  63.8    1      0  7.700  1.50000     582    30    1\n",
       " 510  85.0    1      0  8.500  2.04000     614    30    1\n",
       " 511  80.0    1      0  8.650  1.00800     588    30    1\n",
       " \n",
       " [512 rows x 8 columns],\n",
       " 0      0\n",
       " 1      0\n",
       " 2      0\n",
       " 3      1\n",
       " 4      0\n",
       "       ..\n",
       " 507    0\n",
       " 508    1\n",
       " 509    1\n",
       " 510    0\n",
       " 511    0\n",
       " Name: DELINQUENT, Length: 512, dtype: int64)"
      ]
     },
     "execution_count": 4,
     "metadata": {},
     "output_type": "execute_result"
    }
   ],
   "source": [
    "train_x, train_y"
   ]
  },
  {
   "cell_type": "code",
   "execution_count": 5,
   "id": "a238610b",
   "metadata": {},
   "outputs": [],
   "source": [
    "from sklearn.preprocessing import StandardScaler\n",
    "\n",
    "col_names = ['LVR', 'RATE', 'AMOUNT', 'CREDIT', 'TERM']\n",
    "feature = train_x[col_names]\n",
    "\n",
    "scaler = StandardScaler()\n",
    "scaler.fit(feature)\n",
    "s_train_x = scaler.transform(feature)\n",
    "\n",
    "train_x = pd.DataFrame(s_train_x, columns=col_names)"
   ]
  },
  {
   "cell_type": "code",
   "execution_count": 6,
   "id": "3cbb6e17",
   "metadata": {},
   "outputs": [
    {
     "data": {
      "text/html": [
       "<div>\n",
       "<style scoped>\n",
       "    .dataframe tbody tr th:only-of-type {\n",
       "        vertical-align: middle;\n",
       "    }\n",
       "\n",
       "    .dataframe tbody tr th {\n",
       "        vertical-align: top;\n",
       "    }\n",
       "\n",
       "    .dataframe thead th {\n",
       "        text-align: right;\n",
       "    }\n",
       "</style>\n",
       "<table border=\"1\" class=\"dataframe\">\n",
       "  <thead>\n",
       "    <tr style=\"text-align: right;\">\n",
       "      <th></th>\n",
       "      <th>LVR</th>\n",
       "      <th>RATE</th>\n",
       "      <th>AMOUNT</th>\n",
       "      <th>CREDIT</th>\n",
       "      <th>TERM</th>\n",
       "    </tr>\n",
       "  </thead>\n",
       "  <tbody>\n",
       "    <tr>\n",
       "      <th>0</th>\n",
       "      <td>-0.028868</td>\n",
       "      <td>-0.298899</td>\n",
       "      <td>0.057371</td>\n",
       "      <td>-1.039018</td>\n",
       "      <td>0.354729</td>\n",
       "    </tr>\n",
       "    <tr>\n",
       "      <th>1</th>\n",
       "      <td>1.055468</td>\n",
       "      <td>1.066247</td>\n",
       "      <td>1.269561</td>\n",
       "      <td>-1.860504</td>\n",
       "      <td>0.354729</td>\n",
       "    </tr>\n",
       "    <tr>\n",
       "      <th>2</th>\n",
       "      <td>0.625176</td>\n",
       "      <td>-0.114834</td>\n",
       "      <td>-0.766568</td>\n",
       "      <td>-1.186886</td>\n",
       "      <td>0.354729</td>\n",
       "    </tr>\n",
       "    <tr>\n",
       "      <th>3</th>\n",
       "      <td>0.410030</td>\n",
       "      <td>-0.114834</td>\n",
       "      <td>-0.250644</td>\n",
       "      <td>-0.316111</td>\n",
       "      <td>0.354729</td>\n",
       "    </tr>\n",
       "    <tr>\n",
       "      <th>4</th>\n",
       "      <td>-1.164840</td>\n",
       "      <td>-0.881770</td>\n",
       "      <td>-0.589459</td>\n",
       "      <td>-1.449761</td>\n",
       "      <td>0.354729</td>\n",
       "    </tr>\n",
       "    <tr>\n",
       "      <th>...</th>\n",
       "      <td>...</td>\n",
       "      <td>...</td>\n",
       "      <td>...</td>\n",
       "      <td>...</td>\n",
       "      <td>...</td>\n",
       "    </tr>\n",
       "    <tr>\n",
       "      <th>507</th>\n",
       "      <td>0.246519</td>\n",
       "      <td>0.007875</td>\n",
       "      <td>-0.439559</td>\n",
       "      <td>-1.515480</td>\n",
       "      <td>0.354729</td>\n",
       "    </tr>\n",
       "    <tr>\n",
       "      <th>508</th>\n",
       "      <td>0.625176</td>\n",
       "      <td>-0.881770</td>\n",
       "      <td>0.673399</td>\n",
       "      <td>0.242499</td>\n",
       "      <td>0.354729</td>\n",
       "    </tr>\n",
       "    <tr>\n",
       "      <th>509</th>\n",
       "      <td>-0.287044</td>\n",
       "      <td>-0.114834</td>\n",
       "      <td>-0.230109</td>\n",
       "      <td>-0.644705</td>\n",
       "      <td>0.354729</td>\n",
       "    </tr>\n",
       "    <tr>\n",
       "      <th>510</th>\n",
       "      <td>0.625176</td>\n",
       "      <td>0.376005</td>\n",
       "      <td>0.324317</td>\n",
       "      <td>-0.118955</td>\n",
       "      <td>0.354729</td>\n",
       "    </tr>\n",
       "    <tr>\n",
       "      <th>511</th>\n",
       "      <td>0.410030</td>\n",
       "      <td>0.468037</td>\n",
       "      <td>-0.735253</td>\n",
       "      <td>-0.546127</td>\n",
       "      <td>0.354729</td>\n",
       "    </tr>\n",
       "  </tbody>\n",
       "</table>\n",
       "<p>512 rows × 5 columns</p>\n",
       "</div>"
      ],
      "text/plain": [
       "          LVR      RATE    AMOUNT    CREDIT      TERM\n",
       "0   -0.028868 -0.298899  0.057371 -1.039018  0.354729\n",
       "1    1.055468  1.066247  1.269561 -1.860504  0.354729\n",
       "2    0.625176 -0.114834 -0.766568 -1.186886  0.354729\n",
       "3    0.410030 -0.114834 -0.250644 -0.316111  0.354729\n",
       "4   -1.164840 -0.881770 -0.589459 -1.449761  0.354729\n",
       "..        ...       ...       ...       ...       ...\n",
       "507  0.246519  0.007875 -0.439559 -1.515480  0.354729\n",
       "508  0.625176 -0.881770  0.673399  0.242499  0.354729\n",
       "509 -0.287044 -0.114834 -0.230109 -0.644705  0.354729\n",
       "510  0.625176  0.376005  0.324317 -0.118955  0.354729\n",
       "511  0.410030  0.468037 -0.735253 -0.546127  0.354729\n",
       "\n",
       "[512 rows x 5 columns]"
      ]
     },
     "execution_count": 6,
     "metadata": {},
     "output_type": "execute_result"
    }
   ],
   "source": [
    "train_x"
   ]
  },
  {
   "cell_type": "code",
   "execution_count": null,
   "id": "ead349c2",
   "metadata": {},
   "outputs": [],
   "source": []
  },
  {
   "cell_type": "code",
   "execution_count": 9,
   "id": "0c794354",
   "metadata": {},
   "outputs": [],
   "source": [
    "test = pd.read_csv(\"test.csv\")"
   ]
  },
  {
   "cell_type": "code",
   "execution_count": 10,
   "id": "2b688cdf",
   "metadata": {},
   "outputs": [],
   "source": [
    "test_x = test[features[1:-1]]\n",
    "test_y = test[features[-1]]"
   ]
  },
  {
   "cell_type": "code",
   "execution_count": 15,
   "id": "51adfbbc",
   "metadata": {},
   "outputs": [],
   "source": [
    "col_names = ['LVR', 'RATE', 'AMOUNT', 'CREDIT', 'TERM']\n",
    "feature = test_x[col_names]\n",
    "\n",
    "scaler = StandardScaler()\n",
    "scaler.fit(feature)\n",
    "s_test_x = scaler.transform(feature)\n",
    "\n",
    "test_x = pd.DataFrame(s_test_x, columns=col_names)"
   ]
  },
  {
   "cell_type": "code",
   "execution_count": 9,
   "id": "04cc8fe2",
   "metadata": {},
   "outputs": [
    {
     "data": {
      "text/html": [
       "<div>\n",
       "<style scoped>\n",
       "    .dataframe tbody tr th:only-of-type {\n",
       "        vertical-align: middle;\n",
       "    }\n",
       "\n",
       "    .dataframe tbody tr th {\n",
       "        vertical-align: top;\n",
       "    }\n",
       "\n",
       "    .dataframe thead th {\n",
       "        text-align: right;\n",
       "    }\n",
       "</style>\n",
       "<table border=\"1\" class=\"dataframe\">\n",
       "  <thead>\n",
       "    <tr style=\"text-align: right;\">\n",
       "      <th></th>\n",
       "      <th>LVR</th>\n",
       "      <th>RATE</th>\n",
       "      <th>AMOUNT</th>\n",
       "      <th>CREDIT</th>\n",
       "      <th>TERM</th>\n",
       "    </tr>\n",
       "  </thead>\n",
       "  <tbody>\n",
       "    <tr>\n",
       "      <th>0</th>\n",
       "      <td>-2.192733</td>\n",
       "      <td>0.846046</td>\n",
       "      <td>-1.357284</td>\n",
       "      <td>0.767113</td>\n",
       "      <td>-2.560727</td>\n",
       "    </tr>\n",
       "    <tr>\n",
       "      <th>1</th>\n",
       "      <td>0.391852</td>\n",
       "      <td>0.540178</td>\n",
       "      <td>0.305117</td>\n",
       "      <td>-1.810741</td>\n",
       "      <td>0.414520</td>\n",
       "    </tr>\n",
       "    <tr>\n",
       "      <th>2</th>\n",
       "      <td>0.391852</td>\n",
       "      <td>-0.388651</td>\n",
       "      <td>-0.758820</td>\n",
       "      <td>-0.934271</td>\n",
       "      <td>0.414520</td>\n",
       "    </tr>\n",
       "    <tr>\n",
       "      <th>3</th>\n",
       "      <td>0.391852</td>\n",
       "      <td>-0.276406</td>\n",
       "      <td>1.236061</td>\n",
       "      <td>-0.556185</td>\n",
       "      <td>0.414520</td>\n",
       "    </tr>\n",
       "    <tr>\n",
       "      <th>4</th>\n",
       "      <td>1.240458</td>\n",
       "      <td>0.060330</td>\n",
       "      <td>1.568541</td>\n",
       "      <td>0.320285</td>\n",
       "      <td>0.414520</td>\n",
       "    </tr>\n",
       "    <tr>\n",
       "      <th>...</th>\n",
       "      <td>...</td>\n",
       "      <td>...</td>\n",
       "      <td>...</td>\n",
       "      <td>...</td>\n",
       "      <td>...</td>\n",
       "    </tr>\n",
       "    <tr>\n",
       "      <th>507</th>\n",
       "      <td>0.391852</td>\n",
       "      <td>-0.854468</td>\n",
       "      <td>-0.553632</td>\n",
       "      <td>0.028128</td>\n",
       "      <td>0.414520</td>\n",
       "    </tr>\n",
       "    <tr>\n",
       "      <th>508</th>\n",
       "      <td>0.745079</td>\n",
       "      <td>-0.192222</td>\n",
       "      <td>1.055572</td>\n",
       "      <td>0.045314</td>\n",
       "      <td>0.414520</td>\n",
       "    </tr>\n",
       "    <tr>\n",
       "      <th>509</th>\n",
       "      <td>0.391852</td>\n",
       "      <td>-1.146306</td>\n",
       "      <td>0.046732</td>\n",
       "      <td>1.042084</td>\n",
       "      <td>0.414520</td>\n",
       "    </tr>\n",
       "    <tr>\n",
       "      <th>510</th>\n",
       "      <td>-0.081988</td>\n",
       "      <td>-0.079977</td>\n",
       "      <td>-0.757870</td>\n",
       "      <td>-0.642114</td>\n",
       "      <td>0.414520</td>\n",
       "    </tr>\n",
       "    <tr>\n",
       "      <th>511</th>\n",
       "      <td>1.037999</td>\n",
       "      <td>0.354973</td>\n",
       "      <td>3.606169</td>\n",
       "      <td>0.045314</td>\n",
       "      <td>0.414520</td>\n",
       "    </tr>\n",
       "  </tbody>\n",
       "</table>\n",
       "<p>512 rows × 5 columns</p>\n",
       "</div>"
      ],
      "text/plain": [
       "          LVR      RATE    AMOUNT    CREDIT      TERM\n",
       "0   -2.192733  0.846046 -1.357284  0.767113 -2.560727\n",
       "1    0.391852  0.540178  0.305117 -1.810741  0.414520\n",
       "2    0.391852 -0.388651 -0.758820 -0.934271  0.414520\n",
       "3    0.391852 -0.276406  1.236061 -0.556185  0.414520\n",
       "4    1.240458  0.060330  1.568541  0.320285  0.414520\n",
       "..        ...       ...       ...       ...       ...\n",
       "507  0.391852 -0.854468 -0.553632  0.028128  0.414520\n",
       "508  0.745079 -0.192222  1.055572  0.045314  0.414520\n",
       "509  0.391852 -1.146306  0.046732  1.042084  0.414520\n",
       "510 -0.081988 -0.079977 -0.757870 -0.642114  0.414520\n",
       "511  1.037999  0.354973  3.606169  0.045314  0.414520\n",
       "\n",
       "[512 rows x 5 columns]"
      ]
     },
     "execution_count": 9,
     "metadata": {},
     "output_type": "execute_result"
    }
   ],
   "source": [
    "test_x"
   ]
  },
  {
   "cell_type": "code",
   "execution_count": null,
   "id": "879828a6",
   "metadata": {},
   "outputs": [],
   "source": []
  },
  {
   "cell_type": "code",
   "execution_count": 10,
   "id": "13b5581f",
   "metadata": {},
   "outputs": [
    {
     "data": {
      "text/plain": [
       "array([0.11973333, 0.45523313, 0.50972878, 0.25705276, 0.54387939,\n",
       "       0.45336216, 0.09939051, 0.30242261, 0.14235854])"
      ]
     },
     "execution_count": 10,
     "metadata": {},
     "output_type": "execute_result"
    }
   ],
   "source": [
    "import numpy as np\n",
    "\n",
    "logslots = 9\n",
    "numslots = 2 ** logslots\n",
    "datanum = train.shape[0]\n",
    "weightnum = 9\n",
    "weight = np.random.uniform(size = weightnum)\n",
    "weight"
   ]
  },
  {
   "cell_type": "code",
   "execution_count": 11,
   "id": "317f0ed0",
   "metadata": {},
   "outputs": [],
   "source": [
    "cons = pd.DataFrame({'constant': [1 for i in range(datanum) ]})\n",
    "train_x = pd.concat([cons, train_x], axis=1)\n",
    "test_x = pd.concat([cons, test_x], axis=1)"
   ]
  },
  {
   "cell_type": "code",
   "execution_count": 12,
   "id": "4a4c68a8",
   "metadata": {},
   "outputs": [
    {
     "data": {
      "text/html": [
       "<div>\n",
       "<style scoped>\n",
       "    .dataframe tbody tr th:only-of-type {\n",
       "        vertical-align: middle;\n",
       "    }\n",
       "\n",
       "    .dataframe tbody tr th {\n",
       "        vertical-align: top;\n",
       "    }\n",
       "\n",
       "    .dataframe thead th {\n",
       "        text-align: right;\n",
       "    }\n",
       "</style>\n",
       "<table border=\"1\" class=\"dataframe\">\n",
       "  <thead>\n",
       "    <tr style=\"text-align: right;\">\n",
       "      <th></th>\n",
       "      <th>constant</th>\n",
       "      <th>LVR</th>\n",
       "      <th>RATE</th>\n",
       "      <th>AMOUNT</th>\n",
       "      <th>CREDIT</th>\n",
       "      <th>TERM</th>\n",
       "    </tr>\n",
       "  </thead>\n",
       "  <tbody>\n",
       "    <tr>\n",
       "      <th>0</th>\n",
       "      <td>1</td>\n",
       "      <td>-0.028868</td>\n",
       "      <td>-0.298899</td>\n",
       "      <td>0.057371</td>\n",
       "      <td>-1.039018</td>\n",
       "      <td>0.354729</td>\n",
       "    </tr>\n",
       "    <tr>\n",
       "      <th>1</th>\n",
       "      <td>1</td>\n",
       "      <td>1.055468</td>\n",
       "      <td>1.066247</td>\n",
       "      <td>1.269561</td>\n",
       "      <td>-1.860504</td>\n",
       "      <td>0.354729</td>\n",
       "    </tr>\n",
       "    <tr>\n",
       "      <th>2</th>\n",
       "      <td>1</td>\n",
       "      <td>0.625176</td>\n",
       "      <td>-0.114834</td>\n",
       "      <td>-0.766568</td>\n",
       "      <td>-1.186886</td>\n",
       "      <td>0.354729</td>\n",
       "    </tr>\n",
       "    <tr>\n",
       "      <th>3</th>\n",
       "      <td>1</td>\n",
       "      <td>0.410030</td>\n",
       "      <td>-0.114834</td>\n",
       "      <td>-0.250644</td>\n",
       "      <td>-0.316111</td>\n",
       "      <td>0.354729</td>\n",
       "    </tr>\n",
       "    <tr>\n",
       "      <th>4</th>\n",
       "      <td>1</td>\n",
       "      <td>-1.164840</td>\n",
       "      <td>-0.881770</td>\n",
       "      <td>-0.589459</td>\n",
       "      <td>-1.449761</td>\n",
       "      <td>0.354729</td>\n",
       "    </tr>\n",
       "    <tr>\n",
       "      <th>...</th>\n",
       "      <td>...</td>\n",
       "      <td>...</td>\n",
       "      <td>...</td>\n",
       "      <td>...</td>\n",
       "      <td>...</td>\n",
       "      <td>...</td>\n",
       "    </tr>\n",
       "    <tr>\n",
       "      <th>507</th>\n",
       "      <td>1</td>\n",
       "      <td>0.246519</td>\n",
       "      <td>0.007875</td>\n",
       "      <td>-0.439559</td>\n",
       "      <td>-1.515480</td>\n",
       "      <td>0.354729</td>\n",
       "    </tr>\n",
       "    <tr>\n",
       "      <th>508</th>\n",
       "      <td>1</td>\n",
       "      <td>0.625176</td>\n",
       "      <td>-0.881770</td>\n",
       "      <td>0.673399</td>\n",
       "      <td>0.242499</td>\n",
       "      <td>0.354729</td>\n",
       "    </tr>\n",
       "    <tr>\n",
       "      <th>509</th>\n",
       "      <td>1</td>\n",
       "      <td>-0.287044</td>\n",
       "      <td>-0.114834</td>\n",
       "      <td>-0.230109</td>\n",
       "      <td>-0.644705</td>\n",
       "      <td>0.354729</td>\n",
       "    </tr>\n",
       "    <tr>\n",
       "      <th>510</th>\n",
       "      <td>1</td>\n",
       "      <td>0.625176</td>\n",
       "      <td>0.376005</td>\n",
       "      <td>0.324317</td>\n",
       "      <td>-0.118955</td>\n",
       "      <td>0.354729</td>\n",
       "    </tr>\n",
       "    <tr>\n",
       "      <th>511</th>\n",
       "      <td>1</td>\n",
       "      <td>0.410030</td>\n",
       "      <td>0.468037</td>\n",
       "      <td>-0.735253</td>\n",
       "      <td>-0.546127</td>\n",
       "      <td>0.354729</td>\n",
       "    </tr>\n",
       "  </tbody>\n",
       "</table>\n",
       "<p>512 rows × 6 columns</p>\n",
       "</div>"
      ],
      "text/plain": [
       "     constant       LVR      RATE    AMOUNT    CREDIT      TERM\n",
       "0           1 -0.028868 -0.298899  0.057371 -1.039018  0.354729\n",
       "1           1  1.055468  1.066247  1.269561 -1.860504  0.354729\n",
       "2           1  0.625176 -0.114834 -0.766568 -1.186886  0.354729\n",
       "3           1  0.410030 -0.114834 -0.250644 -0.316111  0.354729\n",
       "4           1 -1.164840 -0.881770 -0.589459 -1.449761  0.354729\n",
       "..        ...       ...       ...       ...       ...       ...\n",
       "507         1  0.246519  0.007875 -0.439559 -1.515480  0.354729\n",
       "508         1  0.625176 -0.881770  0.673399  0.242499  0.354729\n",
       "509         1 -0.287044 -0.114834 -0.230109 -0.644705  0.354729\n",
       "510         1  0.625176  0.376005  0.324317 -0.118955  0.354729\n",
       "511         1  0.410030  0.468037 -0.735253 -0.546127  0.354729\n",
       "\n",
       "[512 rows x 6 columns]"
      ]
     },
     "execution_count": 12,
     "metadata": {},
     "output_type": "execute_result"
    }
   ],
   "source": [
    "train_x"
   ]
  },
  {
   "cell_type": "code",
   "execution_count": null,
   "id": "a0f917e4",
   "metadata": {},
   "outputs": [],
   "source": []
  },
  {
   "cell_type": "code",
   "execution_count": 13,
   "id": "185d38a0",
   "metadata": {},
   "outputs": [],
   "source": [
    "import piheaan as heaan\n",
    "\n",
    "params = heaan.ParameterPreset.FVa\n",
    "context = heaan.make_context(params)\n",
    "heaan.make_bootstrappable(context)"
   ]
  },
  {
   "cell_type": "code",
   "execution_count": 14,
   "id": "df8ed403",
   "metadata": {},
   "outputs": [],
   "source": [
    "key_dir_path = \"./key_new\"\n",
    "secret_key = heaan.SecretKey(context)\n",
    "secret_key.save(\"./secret_key.bin\")\n",
    "key_generator = heaan.KeyGenerator(context, secret_key)\n",
    "key_generator.gen_common_keys()\n",
    "key_generator.save(key_dir_path)\n",
    "public_key = key_generator.keypack"
   ]
  },
  {
   "cell_type": "code",
   "execution_count": 15,
   "id": "5ff49a54",
   "metadata": {},
   "outputs": [],
   "source": [
    "encryptor = heaan.Encryptor(context)\n",
    "decryptor = heaan.Decryptor(context)\n",
    "evaluator = heaan.HomEvaluator(context, public_key)"
   ]
  },
  {
   "cell_type": "code",
   "execution_count": null,
   "id": "32cd6146",
   "metadata": {},
   "outputs": [],
   "source": []
  },
  {
   "cell_type": "code",
   "execution_count": 16,
   "id": "b8a57ae2",
   "metadata": {},
   "outputs": [],
   "source": [
    "ct = []\n",
    "features_num = train_x.shape[1]\n",
    "weightnum = features_num\n",
    "\n",
    "for i in range(features_num):\n",
    "    message = heaan.Message(logslots)\n",
    "    for j in range(numslots):\n",
    "        message[j] = train_x.loc[j][i]\n",
    "    ciphertext = heaan.Ciphertext(context)\n",
    "    encryptor.encrypt(message, public_key, ciphertext)\n",
    "    ct.append(ciphertext)"
   ]
  },
  {
   "cell_type": "code",
   "execution_count": 17,
   "id": "8eaf6de3",
   "metadata": {},
   "outputs": [],
   "source": [
    "ans = heaan.Message(logslots)\n",
    "for i in range(numslots):\n",
    "    ans[i] = train_y.loc[i]\n",
    "\n",
    "ans_ct = heaan.Ciphertext(context)\n",
    "encryptor.encrypt(ans, public_key, ans_ct)"
   ]
  },
  {
   "cell_type": "code",
   "execution_count": null,
   "id": "0b1a9255",
   "metadata": {},
   "outputs": [],
   "source": []
  },
  {
   "cell_type": "code",
   "execution_count": 18,
   "id": "72241e5d",
   "metadata": {},
   "outputs": [],
   "source": [
    "def cal_avg(ciphertext, N, logslots):\n",
    "    evaluator = heaan.HomEvaluator(context, public_key)   \n",
    "    ciphertext_out_avg = heaan.Ciphertext(context, logslots)\n",
    "    \n",
    "    for i in range(N):\n",
    "        evaluator.add(ciphertext, ciphertext_out_avg, ciphertext_out_avg)\n",
    "        evaluator.right_rotate(ciphertext, 1, ciphertext)\n",
    "    \n",
    "    evaluator.mult(ciphertext_out_avg, 1/N, ciphertext_out_avg)\n",
    "    return ciphertext_out_avg"
   ]
  },
  {
   "cell_type": "code",
   "execution_count": 19,
   "id": "5a496f65",
   "metadata": {},
   "outputs": [],
   "source": [
    "from piheaan.math import approx\n",
    "\n",
    "def fit(ct, ans_ct, epoch=30, lr=0.05):\n",
    "    evaluator = heaan.HomEvaluator(context, public_key)\n",
    "    encryptor = heaan.Encryptor(context)\n",
    "    \n",
    "    weight = np.random.uniform(size = weightnum)\n",
    "\n",
    "    weight_ct = []   \n",
    "        \n",
    "    return weight_ct"
   ]
  },
  {
   "cell_type": "code",
   "execution_count": null,
   "id": "0f3a68e9",
   "metadata": {},
   "outputs": [],
   "source": []
  },
  {
   "cell_type": "code",
   "execution_count": 20,
   "id": "179f0dc3",
   "metadata": {},
   "outputs": [],
   "source": [
    "weight_ct = fit(ct, ans_ct, epoch=30)"
   ]
  },
  {
   "cell_type": "code",
   "execution_count": 21,
   "id": "de52459c",
   "metadata": {},
   "outputs": [
    {
     "data": {
      "text/plain": [
       "[(level: 16, log(num slots): 9, data: [ (0.281649+0.000000j), (0.281649+0.000000j), (0.281649+0.000000j), (0.281649+0.000000j), (0.281649+0.000000j), ..., (0.281649+0.000000j), (0.281649+0.000000j), (0.281649+0.000000j), (0.281649+0.000000j), (0.281649+0.000000j) ]),\n",
       " (level: 16, log(num slots): 9, data: [ (0.481404+0.000000j), (0.481404+0.000000j), (0.481404+0.000000j), (0.481404+0.000000j), (0.481404+0.000000j), ..., (0.481404+0.000000j), (0.481404+0.000000j), (0.481404+0.000000j), (0.481404+0.000000j), (0.481404+0.000000j) ]),\n",
       " (level: 16, log(num slots): 9, data: [ (-0.004043+0.000000j), (-0.004043+0.000000j), (-0.004043+0.000000j), (-0.004043+0.000000j), (-0.004043+0.000000j), ..., (-0.004043+0.000000j), (-0.004043+0.000000j), (-0.004043+0.000000j), (-0.004043+0.000000j), (-0.004043+0.000000j) ]),\n",
       " (level: 16, log(num slots): 9, data: [ (0.375987+0.000000j), (0.375987+0.000000j), (0.375987+0.000000j), (0.375987+0.000000j), (0.375987+0.000000j), ..., (0.375987+0.000000j), (0.375987+0.000000j), (0.375987+0.000000j), (0.375987+0.000000j), (0.375987+0.000000j) ]),\n",
       " (level: 16, log(num slots): 9, data: [ (0.023663+0.000000j), (0.023663+0.000000j), (0.023663+0.000000j), (0.023663+0.000000j), (0.023663+0.000000j), ..., (0.023663+0.000000j), (0.023663+0.000000j), (0.023663+0.000000j), (0.023663+0.000000j), (0.023663+0.000000j) ]),\n",
       " (level: 16, log(num slots): 9, data: [ (0.434759+0.000000j), (0.434759+0.000000j), (0.434759+0.000000j), (0.434759+0.000000j), (0.434759+0.000000j), ..., (0.434759+0.000000j), (0.434759+0.000000j), (0.434759+0.000000j), (0.434759+0.000000j), (0.434759+0.000000j) ])]"
      ]
     },
     "execution_count": 21,
     "metadata": {},
     "output_type": "execute_result"
    }
   ],
   "source": [
    "weight_ct"
   ]
  },
  {
   "cell_type": "code",
   "execution_count": null,
   "id": "7eff1fb7",
   "metadata": {},
   "outputs": [],
   "source": []
  },
  {
   "cell_type": "code",
   "execution_count": 22,
   "id": "d6f92e84",
   "metadata": {},
   "outputs": [],
   "source": [
    "sum_ct = heaan.Ciphertext(context, logslots)\n",
    "for i in range(weightnum):\n",
    "    mult_ct = heaan.Ciphertext(context, logslots)\n",
    "    evaluator.mult(ct[i], weight_ct[i], mult_ct)\n",
    "    evaluator.add(sum_ct, mult_ct, sum_ct)"
   ]
  },
  {
   "cell_type": "code",
   "execution_count": 23,
   "id": "8ead5767",
   "metadata": {},
   "outputs": [
    {
     "data": {
      "text/plain": [
       "(level: 15, log(num slots): 9, data: [ (0.420166+0.000000j), (1.372981+0.000000j), (0.420992+0.000000j), (0.532006+0.000000j), (-0.377258+0.000000j), ..., (0.353385+0.000000j), (0.999326+0.000000j), (0.196377+0.000000j), (0.854437+0.000000j), (0.342000+0.000000j) ])"
      ]
     },
     "execution_count": 23,
     "metadata": {},
     "output_type": "execute_result"
    }
   ],
   "source": [
    "sum_ct"
   ]
  },
  {
   "cell_type": "code",
   "execution_count": 24,
   "id": "4389bda1",
   "metadata": {},
   "outputs": [],
   "source": [
    "pred_ct = heaan.Ciphertext(context)\n",
    "approx.sigmoid(evaluator, sum_ct, pred_ct, 1.0)"
   ]
  },
  {
   "cell_type": "code",
   "execution_count": 25,
   "id": "589d4e5d",
   "metadata": {},
   "outputs": [
    {
     "data": {
      "text/plain": [
       "(level: 8, log(num slots): 9, data: [ (0.603521+0.000000j), (0.797861+0.000000j), (0.603719+0.000000j), (0.629950+0.000000j), (0.406790+0.000000j), ..., (0.587436+0.000000j), (0.730928+0.000000j), (0.548936+0.000000j), (0.701498+0.000000j), (0.584674+0.000000j) ])"
      ]
     },
     "execution_count": 25,
     "metadata": {},
     "output_type": "execute_result"
    }
   ],
   "source": [
    "pred_ct"
   ]
  },
  {
   "cell_type": "code",
   "execution_count": 26,
   "id": "2915a908",
   "metadata": {},
   "outputs": [
    {
     "data": {
      "text/plain": [
       "(level: 29, log(num slots): 9, data: [ (0.000000+0.000000j), (0.000000+0.000000j), (0.000000+0.000000j), (1.000000+0.000000j), (0.000000+0.000000j), ..., (0.000000+0.000000j), (1.000000+0.000000j), (1.000000+0.000000j), (0.000000+0.000000j), (0.000000+0.000000j) ])"
      ]
     },
     "execution_count": 26,
     "metadata": {},
     "output_type": "execute_result"
    }
   ],
   "source": [
    "ans_ct"
   ]
  },
  {
   "cell_type": "code",
   "execution_count": null,
   "id": "d0767855",
   "metadata": {},
   "outputs": [],
   "source": []
  },
  {
   "cell_type": "code",
   "execution_count": 27,
   "id": "0d22c2e7",
   "metadata": {},
   "outputs": [],
   "source": [
    "pred_pt = heaan.Message(logslots)\n",
    "decryptor.decrypt(pred_ct, secret_key, pred_pt)\n",
    "\n",
    "pred = []\n",
    "for i in range(numslots):\n",
    "    pred.append(pred_pt[i])"
   ]
  },
  {
   "cell_type": "code",
   "execution_count": 28,
   "id": "e9764491",
   "metadata": {},
   "outputs": [],
   "source": [
    "for i in range(len(pred)):\n",
    "    pred[i] = pred[i].real"
   ]
  },
  {
   "cell_type": "code",
   "execution_count": 46,
   "id": "5f82ab64",
   "metadata": {},
   "outputs": [],
   "source": [
    "threshold = 0.95\n",
    "prediction = [1 if i > threshold else 0 for i in pred]"
   ]
  },
  {
   "cell_type": "code",
   "execution_count": 47,
   "id": "33c72ab3",
   "metadata": {},
   "outputs": [
    {
     "data": {
      "text/plain": [
       "0.8046875"
      ]
     },
     "execution_count": 47,
     "metadata": {},
     "output_type": "execute_result"
    }
   ],
   "source": [
    "from sklearn.metrics import accuracy_score\n",
    "\n",
    "accuracy_score(train_y, prediction)"
   ]
  },
  {
   "cell_type": "code",
   "execution_count": null,
   "id": "6f6559ba",
   "metadata": {},
   "outputs": [],
   "source": []
  },
  {
   "cell_type": "code",
   "execution_count": null,
   "id": "e1049157",
   "metadata": {},
   "outputs": [],
   "source": []
  },
  {
   "cell_type": "code",
   "execution_count": 31,
   "id": "57fb8127",
   "metadata": {},
   "outputs": [
    {
     "data": {
      "text/plain": [
       "(     constant       LVR      RATE    AMOUNT    CREDIT      TERM\n",
       " 0           1 -2.192733  0.846046 -1.357284  0.767113 -2.560727\n",
       " 1           1  0.391852  0.540178  0.305117 -1.810741  0.414520\n",
       " 2           1  0.391852 -0.388651 -0.758820 -0.934271  0.414520\n",
       " 3           1  0.391852 -0.276406  1.236061 -0.556185  0.414520\n",
       " 4           1  1.240458  0.060330  1.568541  0.320285  0.414520\n",
       " ..        ...       ...       ...       ...       ...       ...\n",
       " 507         1  0.391852 -0.854468 -0.553632  0.028128  0.414520\n",
       " 508         1  0.745079 -0.192222  1.055572  0.045314  0.414520\n",
       " 509         1  0.391852 -1.146306  0.046732  1.042084  0.414520\n",
       " 510         1 -0.081988 -0.079977 -0.757870 -0.642114  0.414520\n",
       " 511         1  1.037999  0.354973  3.606169  0.045314  0.414520\n",
       " \n",
       " [512 rows x 6 columns],\n",
       " 0      0\n",
       " 1      1\n",
       " 2      0\n",
       " 3      1\n",
       " 4      0\n",
       "       ..\n",
       " 507    0\n",
       " 508    0\n",
       " 509    0\n",
       " 510    1\n",
       " 511    1\n",
       " Name: DELINQUENT, Length: 512, dtype: int64)"
      ]
     },
     "execution_count": 31,
     "metadata": {},
     "output_type": "execute_result"
    }
   ],
   "source": [
    "test_x, test_y"
   ]
  },
  {
   "cell_type": "code",
   "execution_count": 32,
   "id": "ee34ff73",
   "metadata": {},
   "outputs": [],
   "source": [
    "test_ct = []\n",
    "features_num = test_x.shape[1]\n",
    "\n",
    "for i in range(features_num):\n",
    "    message = heaan.Message(logslots)\n",
    "    for j in range(numslots):\n",
    "        message[j] = test_x.loc[j][i]\n",
    "    ciphertext = heaan.Ciphertext(context)\n",
    "    encryptor.encrypt(message, public_key, ciphertext)\n",
    "    test_ct.append(ciphertext)"
   ]
  },
  {
   "cell_type": "code",
   "execution_count": 33,
   "id": "4729e103",
   "metadata": {},
   "outputs": [],
   "source": [
    "test_ans = heaan.Message(logslots)\n",
    "for i in range(numslots):\n",
    "    test_ans[i] = test_y.loc[i]\n",
    "\n",
    "test_ans_ct = heaan.Ciphertext(context)\n",
    "encryptor.encrypt(test_ans, public_key, test_ans_ct)"
   ]
  },
  {
   "cell_type": "code",
   "execution_count": 34,
   "id": "52d108a8",
   "metadata": {},
   "outputs": [],
   "source": [
    "test_sum_ct = heaan.Ciphertext(context, logslots)\n",
    "for i in range(weightnum):\n",
    "    mult_ct = heaan.Ciphertext(context, logslots)\n",
    "    evaluator.mult(test_ct[i], weight_ct[i], mult_ct)\n",
    "    evaluator.add(test_sum_ct, mult_ct, test_sum_ct)"
   ]
  },
  {
   "cell_type": "code",
   "execution_count": 35,
   "id": "37d16b74",
   "metadata": {},
   "outputs": [],
   "source": [
    "test_pred_ct = heaan.Ciphertext(context)\n",
    "approx.sigmoid(evaluator, test_sum_ct, test_pred_ct, 1.0)"
   ]
  },
  {
   "cell_type": "code",
   "execution_count": 36,
   "id": "2719e8b2",
   "metadata": {},
   "outputs": [],
   "source": [
    "pred_pt = heaan.Message(logslots)\n",
    "decryptor.decrypt(test_pred_ct, secret_key, pred_pt)\n",
    "\n",
    "pred = []\n",
    "for i in range(numslots):\n",
    "    pred.append(pred_pt[i])"
   ]
  },
  {
   "cell_type": "code",
   "execution_count": 37,
   "id": "0a9fd0f7",
   "metadata": {},
   "outputs": [],
   "source": [
    "for i in range(len(pred)):\n",
    "    pred[i] = pred[i].real"
   ]
  },
  {
   "cell_type": "code",
   "execution_count": 38,
   "id": "254afbfd",
   "metadata": {},
   "outputs": [],
   "source": [
    "prediction = [1 if i > 0.36 else 0 for i in pred]"
   ]
  },
  {
   "cell_type": "code",
   "execution_count": 39,
   "id": "cd612a75",
   "metadata": {},
   "outputs": [
    {
     "data": {
      "text/plain": [
       "0.310546875"
      ]
     },
     "execution_count": 39,
     "metadata": {},
     "output_type": "execute_result"
    }
   ],
   "source": [
    "from sklearn.metrics import accuracy_score\n",
    "\n",
    "accuracy_score(train_y, prediction)"
   ]
  },
  {
   "cell_type": "code",
   "execution_count": null,
   "id": "01145ec3",
   "metadata": {},
   "outputs": [],
   "source": []
  },
  {
   "cell_type": "code",
   "execution_count": null,
   "id": "5ae0cde0",
   "metadata": {},
   "outputs": [],
   "source": []
  },
  {
   "cell_type": "code",
   "execution_count": null,
   "id": "6cd8dc4b",
   "metadata": {},
   "outputs": [],
   "source": []
  }
 ],
 "metadata": {
  "kernelspec": {
   "display_name": "Python 3 (ipykernel)",
   "language": "python",
   "name": "python3"
  },
  "language_info": {
   "codemirror_mode": {
    "name": "ipython",
    "version": 3
   },
   "file_extension": ".py",
   "mimetype": "text/x-python",
   "name": "python",
   "nbconvert_exporter": "python",
   "pygments_lexer": "ipython3",
   "version": "3.10.14"
  }
 },
 "nbformat": 4,
 "nbformat_minor": 5
}
