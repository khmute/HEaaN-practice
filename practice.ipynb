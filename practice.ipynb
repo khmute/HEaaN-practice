{
 "cells": [
  {
   "cell_type": "code",
   "execution_count": 1,
   "metadata": {},
   "outputs": [],
   "source": [
    "import pandas  as pd\n",
    "from sklearn.preprocessing import StandardScaler\n",
    "from piheaan.math import approx\n",
    "import math"
   ]
  },
  {
   "cell_type": "markdown",
   "metadata": {},
   "source": [
    "Training data loading"
   ]
  },
  {
   "cell_type": "code",
   "execution_count": 2,
   "metadata": {},
   "outputs": [],
   "source": [
    "train = pd.read_csv(\"train.csv\")\n",
    "features = train.columns\n",
    "train_x = train[features[1:-1]]\n",
    "train_y = train[features[-1]]"
   ]
  },
  {
   "cell_type": "code",
   "execution_count": 3,
   "metadata": {},
   "outputs": [
    {
     "data": {
      "text/plain": [
       "(      LVR  REF  INSUR   RATE   AMOUNT  CREDIT  TERM  ARM\n",
       " 0    69.8    1      1  7.400  1.78000     558    30    1\n",
       " 1    95.0    0      0  9.625  2.96065     508    30    1\n",
       " 2    85.0    1      1  7.700  0.97750     549    30    1\n",
       " 3    80.0    0      0  7.700  1.48000     602    30    1\n",
       " 4    43.4    1      1  6.450  1.15000     533    30    1\n",
       " ..    ...  ...    ...    ...      ...     ...   ...  ...\n",
       " 507  76.2    1      1  7.900  1.29600     529    30    1\n",
       " 508  85.0    1      0  6.450  2.38000     636    30    0\n",
       " 509  63.8    1      0  7.700  1.50000     582    30    1\n",
       " 510  85.0    1      0  8.500  2.04000     614    30    1\n",
       " 511  80.0    1      0  8.650  1.00800     588    30    1\n",
       " \n",
       " [512 rows x 8 columns],\n",
       " 0      0\n",
       " 1      0\n",
       " 2      0\n",
       " 3      1\n",
       " 4      0\n",
       "       ..\n",
       " 507    0\n",
       " 508    1\n",
       " 509    1\n",
       " 510    0\n",
       " 511    0\n",
       " Name: DELINQUENT, Length: 512, dtype: int64)"
      ]
     },
     "execution_count": 3,
     "metadata": {},
     "output_type": "execute_result"
    }
   ],
   "source": [
    "train_x, train_y"
   ]
  },
  {
   "cell_type": "markdown",
   "metadata": {},
   "source": [
    "Preprocessing"
   ]
  },
  {
   "cell_type": "code",
   "execution_count": 4,
   "metadata": {},
   "outputs": [],
   "source": [
    "from sklearn.preprocessing import StandardScaler\n",
    "\n",
    "col_names = ['LVR', 'RATE', 'AMOUNT', 'CREDIT', 'TERM']\n",
    "feature = train_x[col_names]\n",
    "\n",
    "scaler = StandardScaler()\n",
    "scaler.fit(feature)\n",
    "s_train_x = scaler.transform(feature)\n",
    "\n",
    "train_x = pd.DataFrame(s_train_x, columns=col_names)"
   ]
  },
  {
   "cell_type": "code",
   "execution_count": 5,
   "metadata": {},
   "outputs": [
    {
     "data": {
      "text/html": [
       "<div>\n",
       "<style scoped>\n",
       "    .dataframe tbody tr th:only-of-type {\n",
       "        vertical-align: middle;\n",
       "    }\n",
       "\n",
       "    .dataframe tbody tr th {\n",
       "        vertical-align: top;\n",
       "    }\n",
       "\n",
       "    .dataframe thead th {\n",
       "        text-align: right;\n",
       "    }\n",
       "</style>\n",
       "<table border=\"1\" class=\"dataframe\">\n",
       "  <thead>\n",
       "    <tr style=\"text-align: right;\">\n",
       "      <th></th>\n",
       "      <th>LVR</th>\n",
       "      <th>RATE</th>\n",
       "      <th>AMOUNT</th>\n",
       "      <th>CREDIT</th>\n",
       "      <th>TERM</th>\n",
       "    </tr>\n",
       "  </thead>\n",
       "  <tbody>\n",
       "    <tr>\n",
       "      <th>0</th>\n",
       "      <td>-0.028868</td>\n",
       "      <td>-0.298899</td>\n",
       "      <td>0.057371</td>\n",
       "      <td>-1.039018</td>\n",
       "      <td>0.354729</td>\n",
       "    </tr>\n",
       "    <tr>\n",
       "      <th>1</th>\n",
       "      <td>1.055468</td>\n",
       "      <td>1.066247</td>\n",
       "      <td>1.269561</td>\n",
       "      <td>-1.860504</td>\n",
       "      <td>0.354729</td>\n",
       "    </tr>\n",
       "    <tr>\n",
       "      <th>2</th>\n",
       "      <td>0.625176</td>\n",
       "      <td>-0.114834</td>\n",
       "      <td>-0.766568</td>\n",
       "      <td>-1.186886</td>\n",
       "      <td>0.354729</td>\n",
       "    </tr>\n",
       "    <tr>\n",
       "      <th>3</th>\n",
       "      <td>0.410030</td>\n",
       "      <td>-0.114834</td>\n",
       "      <td>-0.250644</td>\n",
       "      <td>-0.316111</td>\n",
       "      <td>0.354729</td>\n",
       "    </tr>\n",
       "    <tr>\n",
       "      <th>4</th>\n",
       "      <td>-1.164840</td>\n",
       "      <td>-0.881770</td>\n",
       "      <td>-0.589459</td>\n",
       "      <td>-1.449761</td>\n",
       "      <td>0.354729</td>\n",
       "    </tr>\n",
       "    <tr>\n",
       "      <th>...</th>\n",
       "      <td>...</td>\n",
       "      <td>...</td>\n",
       "      <td>...</td>\n",
       "      <td>...</td>\n",
       "      <td>...</td>\n",
       "    </tr>\n",
       "    <tr>\n",
       "      <th>507</th>\n",
       "      <td>0.246519</td>\n",
       "      <td>0.007875</td>\n",
       "      <td>-0.439559</td>\n",
       "      <td>-1.515480</td>\n",
       "      <td>0.354729</td>\n",
       "    </tr>\n",
       "    <tr>\n",
       "      <th>508</th>\n",
       "      <td>0.625176</td>\n",
       "      <td>-0.881770</td>\n",
       "      <td>0.673399</td>\n",
       "      <td>0.242499</td>\n",
       "      <td>0.354729</td>\n",
       "    </tr>\n",
       "    <tr>\n",
       "      <th>509</th>\n",
       "      <td>-0.287044</td>\n",
       "      <td>-0.114834</td>\n",
       "      <td>-0.230109</td>\n",
       "      <td>-0.644705</td>\n",
       "      <td>0.354729</td>\n",
       "    </tr>\n",
       "    <tr>\n",
       "      <th>510</th>\n",
       "      <td>0.625176</td>\n",
       "      <td>0.376005</td>\n",
       "      <td>0.324317</td>\n",
       "      <td>-0.118955</td>\n",
       "      <td>0.354729</td>\n",
       "    </tr>\n",
       "    <tr>\n",
       "      <th>511</th>\n",
       "      <td>0.410030</td>\n",
       "      <td>0.468037</td>\n",
       "      <td>-0.735253</td>\n",
       "      <td>-0.546127</td>\n",
       "      <td>0.354729</td>\n",
       "    </tr>\n",
       "  </tbody>\n",
       "</table>\n",
       "<p>512 rows × 5 columns</p>\n",
       "</div>"
      ],
      "text/plain": [
       "          LVR      RATE    AMOUNT    CREDIT      TERM\n",
       "0   -0.028868 -0.298899  0.057371 -1.039018  0.354729\n",
       "1    1.055468  1.066247  1.269561 -1.860504  0.354729\n",
       "2    0.625176 -0.114834 -0.766568 -1.186886  0.354729\n",
       "3    0.410030 -0.114834 -0.250644 -0.316111  0.354729\n",
       "4   -1.164840 -0.881770 -0.589459 -1.449761  0.354729\n",
       "..        ...       ...       ...       ...       ...\n",
       "507  0.246519  0.007875 -0.439559 -1.515480  0.354729\n",
       "508  0.625176 -0.881770  0.673399  0.242499  0.354729\n",
       "509 -0.287044 -0.114834 -0.230109 -0.644705  0.354729\n",
       "510  0.625176  0.376005  0.324317 -0.118955  0.354729\n",
       "511  0.410030  0.468037 -0.735253 -0.546127  0.354729\n",
       "\n",
       "[512 rows x 5 columns]"
      ]
     },
     "execution_count": 5,
     "metadata": {},
     "output_type": "execute_result"
    }
   ],
   "source": [
    "train_x"
   ]
  },
  {
   "cell_type": "markdown",
   "metadata": {},
   "source": [
    "Test data loading"
   ]
  },
  {
   "cell_type": "code",
   "execution_count": 6,
   "metadata": {},
   "outputs": [],
   "source": [
    "test = pd.read_csv(\"test.csv\")"
   ]
  },
  {
   "cell_type": "code",
   "execution_count": 7,
   "metadata": {},
   "outputs": [],
   "source": [
    "test_x = test[features[1:-1]]\n",
    "test_y = test[features[-1]]"
   ]
  },
  {
   "cell_type": "code",
   "execution_count": 8,
   "metadata": {},
   "outputs": [],
   "source": [
    "col_names = ['LVR', 'RATE', 'AMOUNT', 'CREDIT', 'TERM']\n",
    "feature = test_x[col_names]\n",
    "\n",
    "scaler = StandardScaler()\n",
    "scaler.fit(feature)\n",
    "s_test_x = scaler.transform(feature)\n",
    "\n",
    "test_x = pd.DataFrame(s_test_x, columns=col_names)"
   ]
  },
  {
   "cell_type": "code",
   "execution_count": 9,
   "metadata": {},
   "outputs": [
    {
     "data": {
      "text/html": [
       "<div>\n",
       "<style scoped>\n",
       "    .dataframe tbody tr th:only-of-type {\n",
       "        vertical-align: middle;\n",
       "    }\n",
       "\n",
       "    .dataframe tbody tr th {\n",
       "        vertical-align: top;\n",
       "    }\n",
       "\n",
       "    .dataframe thead th {\n",
       "        text-align: right;\n",
       "    }\n",
       "</style>\n",
       "<table border=\"1\" class=\"dataframe\">\n",
       "  <thead>\n",
       "    <tr style=\"text-align: right;\">\n",
       "      <th></th>\n",
       "      <th>LVR</th>\n",
       "      <th>RATE</th>\n",
       "      <th>AMOUNT</th>\n",
       "      <th>CREDIT</th>\n",
       "      <th>TERM</th>\n",
       "    </tr>\n",
       "  </thead>\n",
       "  <tbody>\n",
       "    <tr>\n",
       "      <th>0</th>\n",
       "      <td>-2.192733</td>\n",
       "      <td>0.846046</td>\n",
       "      <td>-1.357284</td>\n",
       "      <td>0.767113</td>\n",
       "      <td>-2.560727</td>\n",
       "    </tr>\n",
       "    <tr>\n",
       "      <th>1</th>\n",
       "      <td>0.391852</td>\n",
       "      <td>0.540178</td>\n",
       "      <td>0.305117</td>\n",
       "      <td>-1.810741</td>\n",
       "      <td>0.414520</td>\n",
       "    </tr>\n",
       "    <tr>\n",
       "      <th>2</th>\n",
       "      <td>0.391852</td>\n",
       "      <td>-0.388651</td>\n",
       "      <td>-0.758820</td>\n",
       "      <td>-0.934271</td>\n",
       "      <td>0.414520</td>\n",
       "    </tr>\n",
       "    <tr>\n",
       "      <th>3</th>\n",
       "      <td>0.391852</td>\n",
       "      <td>-0.276406</td>\n",
       "      <td>1.236061</td>\n",
       "      <td>-0.556185</td>\n",
       "      <td>0.414520</td>\n",
       "    </tr>\n",
       "    <tr>\n",
       "      <th>4</th>\n",
       "      <td>1.240458</td>\n",
       "      <td>0.060330</td>\n",
       "      <td>1.568541</td>\n",
       "      <td>0.320285</td>\n",
       "      <td>0.414520</td>\n",
       "    </tr>\n",
       "    <tr>\n",
       "      <th>...</th>\n",
       "      <td>...</td>\n",
       "      <td>...</td>\n",
       "      <td>...</td>\n",
       "      <td>...</td>\n",
       "      <td>...</td>\n",
       "    </tr>\n",
       "    <tr>\n",
       "      <th>507</th>\n",
       "      <td>0.391852</td>\n",
       "      <td>-0.854468</td>\n",
       "      <td>-0.553632</td>\n",
       "      <td>0.028128</td>\n",
       "      <td>0.414520</td>\n",
       "    </tr>\n",
       "    <tr>\n",
       "      <th>508</th>\n",
       "      <td>0.745079</td>\n",
       "      <td>-0.192222</td>\n",
       "      <td>1.055572</td>\n",
       "      <td>0.045314</td>\n",
       "      <td>0.414520</td>\n",
       "    </tr>\n",
       "    <tr>\n",
       "      <th>509</th>\n",
       "      <td>0.391852</td>\n",
       "      <td>-1.146306</td>\n",
       "      <td>0.046732</td>\n",
       "      <td>1.042084</td>\n",
       "      <td>0.414520</td>\n",
       "    </tr>\n",
       "    <tr>\n",
       "      <th>510</th>\n",
       "      <td>-0.081988</td>\n",
       "      <td>-0.079977</td>\n",
       "      <td>-0.757870</td>\n",
       "      <td>-0.642114</td>\n",
       "      <td>0.414520</td>\n",
       "    </tr>\n",
       "    <tr>\n",
       "      <th>511</th>\n",
       "      <td>1.037999</td>\n",
       "      <td>0.354973</td>\n",
       "      <td>3.606169</td>\n",
       "      <td>0.045314</td>\n",
       "      <td>0.414520</td>\n",
       "    </tr>\n",
       "  </tbody>\n",
       "</table>\n",
       "<p>512 rows × 5 columns</p>\n",
       "</div>"
      ],
      "text/plain": [
       "          LVR      RATE    AMOUNT    CREDIT      TERM\n",
       "0   -2.192733  0.846046 -1.357284  0.767113 -2.560727\n",
       "1    0.391852  0.540178  0.305117 -1.810741  0.414520\n",
       "2    0.391852 -0.388651 -0.758820 -0.934271  0.414520\n",
       "3    0.391852 -0.276406  1.236061 -0.556185  0.414520\n",
       "4    1.240458  0.060330  1.568541  0.320285  0.414520\n",
       "..        ...       ...       ...       ...       ...\n",
       "507  0.391852 -0.854468 -0.553632  0.028128  0.414520\n",
       "508  0.745079 -0.192222  1.055572  0.045314  0.414520\n",
       "509  0.391852 -1.146306  0.046732  1.042084  0.414520\n",
       "510 -0.081988 -0.079977 -0.757870 -0.642114  0.414520\n",
       "511  1.037999  0.354973  3.606169  0.045314  0.414520\n",
       "\n",
       "[512 rows x 5 columns]"
      ]
     },
     "execution_count": 9,
     "metadata": {},
     "output_type": "execute_result"
    }
   ],
   "source": [
    "test_x"
   ]
  },
  {
   "cell_type": "markdown",
   "metadata": {},
   "source": [
    "Params init"
   ]
  },
  {
   "cell_type": "code",
   "execution_count": 10,
   "metadata": {},
   "outputs": [
    {
     "data": {
      "text/plain": [
       "array([0.58830922, 0.30808678, 0.19313997, 0.85589473, 0.50503738,\n",
       "       0.43283021, 0.92742636, 0.84969859, 0.75405047])"
      ]
     },
     "execution_count": 10,
     "metadata": {},
     "output_type": "execute_result"
    }
   ],
   "source": [
    "import numpy as np\n",
    "\n",
    "logslots = 9\n",
    "numslots = 2 ** logslots\n",
    "datanum = train.shape[0]\n",
    "weightnum = 9\n",
    "weight = np.random.uniform(size = weightnum)\n",
    "weight"
   ]
  },
  {
   "cell_type": "markdown",
   "metadata": {},
   "source": [
    "bias를 새로 변수로 만들어 사용하지 않고, constant 열을 추가해서 사용?"
   ]
  },
  {
   "cell_type": "code",
   "execution_count": 11,
   "metadata": {},
   "outputs": [],
   "source": [
    "cons = pd.DataFrame({'constant': [1 for i in range(datanum) ]})\n",
    "train_x = pd.concat([cons, train_x], axis=1)\n",
    "test_x = pd.concat([cons, test_x], axis=1)"
   ]
  },
  {
   "cell_type": "code",
   "execution_count": 12,
   "metadata": {},
   "outputs": [
    {
     "data": {
      "text/html": [
       "<div>\n",
       "<style scoped>\n",
       "    .dataframe tbody tr th:only-of-type {\n",
       "        vertical-align: middle;\n",
       "    }\n",
       "\n",
       "    .dataframe tbody tr th {\n",
       "        vertical-align: top;\n",
       "    }\n",
       "\n",
       "    .dataframe thead th {\n",
       "        text-align: right;\n",
       "    }\n",
       "</style>\n",
       "<table border=\"1\" class=\"dataframe\">\n",
       "  <thead>\n",
       "    <tr style=\"text-align: right;\">\n",
       "      <th></th>\n",
       "      <th>constant</th>\n",
       "      <th>LVR</th>\n",
       "      <th>RATE</th>\n",
       "      <th>AMOUNT</th>\n",
       "      <th>CREDIT</th>\n",
       "      <th>TERM</th>\n",
       "    </tr>\n",
       "  </thead>\n",
       "  <tbody>\n",
       "    <tr>\n",
       "      <th>0</th>\n",
       "      <td>1</td>\n",
       "      <td>-0.028868</td>\n",
       "      <td>-0.298899</td>\n",
       "      <td>0.057371</td>\n",
       "      <td>-1.039018</td>\n",
       "      <td>0.354729</td>\n",
       "    </tr>\n",
       "    <tr>\n",
       "      <th>1</th>\n",
       "      <td>1</td>\n",
       "      <td>1.055468</td>\n",
       "      <td>1.066247</td>\n",
       "      <td>1.269561</td>\n",
       "      <td>-1.860504</td>\n",
       "      <td>0.354729</td>\n",
       "    </tr>\n",
       "    <tr>\n",
       "      <th>2</th>\n",
       "      <td>1</td>\n",
       "      <td>0.625176</td>\n",
       "      <td>-0.114834</td>\n",
       "      <td>-0.766568</td>\n",
       "      <td>-1.186886</td>\n",
       "      <td>0.354729</td>\n",
       "    </tr>\n",
       "    <tr>\n",
       "      <th>3</th>\n",
       "      <td>1</td>\n",
       "      <td>0.410030</td>\n",
       "      <td>-0.114834</td>\n",
       "      <td>-0.250644</td>\n",
       "      <td>-0.316111</td>\n",
       "      <td>0.354729</td>\n",
       "    </tr>\n",
       "    <tr>\n",
       "      <th>4</th>\n",
       "      <td>1</td>\n",
       "      <td>-1.164840</td>\n",
       "      <td>-0.881770</td>\n",
       "      <td>-0.589459</td>\n",
       "      <td>-1.449761</td>\n",
       "      <td>0.354729</td>\n",
       "    </tr>\n",
       "    <tr>\n",
       "      <th>...</th>\n",
       "      <td>...</td>\n",
       "      <td>...</td>\n",
       "      <td>...</td>\n",
       "      <td>...</td>\n",
       "      <td>...</td>\n",
       "      <td>...</td>\n",
       "    </tr>\n",
       "    <tr>\n",
       "      <th>507</th>\n",
       "      <td>1</td>\n",
       "      <td>0.246519</td>\n",
       "      <td>0.007875</td>\n",
       "      <td>-0.439559</td>\n",
       "      <td>-1.515480</td>\n",
       "      <td>0.354729</td>\n",
       "    </tr>\n",
       "    <tr>\n",
       "      <th>508</th>\n",
       "      <td>1</td>\n",
       "      <td>0.625176</td>\n",
       "      <td>-0.881770</td>\n",
       "      <td>0.673399</td>\n",
       "      <td>0.242499</td>\n",
       "      <td>0.354729</td>\n",
       "    </tr>\n",
       "    <tr>\n",
       "      <th>509</th>\n",
       "      <td>1</td>\n",
       "      <td>-0.287044</td>\n",
       "      <td>-0.114834</td>\n",
       "      <td>-0.230109</td>\n",
       "      <td>-0.644705</td>\n",
       "      <td>0.354729</td>\n",
       "    </tr>\n",
       "    <tr>\n",
       "      <th>510</th>\n",
       "      <td>1</td>\n",
       "      <td>0.625176</td>\n",
       "      <td>0.376005</td>\n",
       "      <td>0.324317</td>\n",
       "      <td>-0.118955</td>\n",
       "      <td>0.354729</td>\n",
       "    </tr>\n",
       "    <tr>\n",
       "      <th>511</th>\n",
       "      <td>1</td>\n",
       "      <td>0.410030</td>\n",
       "      <td>0.468037</td>\n",
       "      <td>-0.735253</td>\n",
       "      <td>-0.546127</td>\n",
       "      <td>0.354729</td>\n",
       "    </tr>\n",
       "  </tbody>\n",
       "</table>\n",
       "<p>512 rows × 6 columns</p>\n",
       "</div>"
      ],
      "text/plain": [
       "     constant       LVR      RATE    AMOUNT    CREDIT      TERM\n",
       "0           1 -0.028868 -0.298899  0.057371 -1.039018  0.354729\n",
       "1           1  1.055468  1.066247  1.269561 -1.860504  0.354729\n",
       "2           1  0.625176 -0.114834 -0.766568 -1.186886  0.354729\n",
       "3           1  0.410030 -0.114834 -0.250644 -0.316111  0.354729\n",
       "4           1 -1.164840 -0.881770 -0.589459 -1.449761  0.354729\n",
       "..        ...       ...       ...       ...       ...       ...\n",
       "507         1  0.246519  0.007875 -0.439559 -1.515480  0.354729\n",
       "508         1  0.625176 -0.881770  0.673399  0.242499  0.354729\n",
       "509         1 -0.287044 -0.114834 -0.230109 -0.644705  0.354729\n",
       "510         1  0.625176  0.376005  0.324317 -0.118955  0.354729\n",
       "511         1  0.410030  0.468037 -0.735253 -0.546127  0.354729\n",
       "\n",
       "[512 rows x 6 columns]"
      ]
     },
     "execution_count": 12,
     "metadata": {},
     "output_type": "execute_result"
    }
   ],
   "source": [
    "train_x"
   ]
  },
  {
   "cell_type": "markdown",
   "metadata": {},
   "source": [
    "Key init"
   ]
  },
  {
   "cell_type": "code",
   "execution_count": 13,
   "metadata": {},
   "outputs": [],
   "source": [
    "import piheaan as heaan\n",
    "\n",
    "params = heaan.ParameterPreset.FVa\n",
    "context = heaan.make_context(params)\n",
    "heaan.make_bootstrappable(context)"
   ]
  },
  {
   "cell_type": "code",
   "execution_count": 14,
   "metadata": {},
   "outputs": [],
   "source": [
    "key_dir_path = \"./key_new\"\n",
    "secret_key = heaan.SecretKey(context)\n",
    "secret_key.save(\"./secret_key.bin\")\n",
    "key_generator = heaan.KeyGenerator(context, secret_key)\n",
    "key_generator.gen_common_keys()\n",
    "key_generator.save(key_dir_path)\n",
    "public_key = key_generator.keypack"
   ]
  },
  {
   "cell_type": "code",
   "execution_count": 15,
   "metadata": {},
   "outputs": [],
   "source": [
    "encryptor = heaan.Encryptor(context)\n",
    "decryptor = heaan.Decryptor(context)\n",
    "evaluator = heaan.HomEvaluator(context, public_key)"
   ]
  },
  {
   "cell_type": "code",
   "execution_count": null,
   "metadata": {},
   "outputs": [],
   "source": []
  },
  {
   "cell_type": "code",
   "execution_count": 16,
   "metadata": {},
   "outputs": [
    {
     "name": "stdout",
     "output_type": "stream",
     "text": [
      "6\n"
     ]
    }
   ],
   "source": [
    "ct = []\n",
    "features_num = train_x.shape[1]\n",
    "weightnum = features_num\n",
    "print(weightnum)\n",
    "\n",
    "for i in range(features_num):\n",
    "    message = heaan.Message(logslots)\n",
    "    for j in range(numslots):\n",
    "        # message[j] = train_x.loc[j][i]\n",
    "        message[j] = train_x.iloc[j, i]\n",
    "    ciphertext = heaan.Ciphertext(context)\n",
    "    encryptor.encrypt(message, public_key, ciphertext)\n",
    "    ct.append(ciphertext)"
   ]
  },
  {
   "cell_type": "code",
   "execution_count": 17,
   "metadata": {},
   "outputs": [
    {
     "name": "stdout",
     "output_type": "stream",
     "text": [
      "(level: 29, log(num slots): 9, data: [ (1.000000+0.000000j), (1.000000+0.000000j), (1.000000+0.000000j), (1.000000+0.000000j), (1.000000+0.000000j), ..., (1.000000+0.000000j), (1.000000+0.000000j), (1.000000+0.000000j), (1.000000+0.000000j), (1.000000+0.000000j) ])\n",
      "(level: 29, log(num slots): 9, data: [ (-0.028868+0.000000j), (1.055468+0.000000j), (0.625176+0.000000j), (0.410030+0.000000j), (-1.164840+0.000000j), ..., (0.246519+0.000000j), (0.625176+0.000000j), (-0.287044+0.000000j), (0.625176+0.000000j), (0.410030+0.000000j) ])\n",
      "(level: 29, log(num slots): 9, data: [ (-0.298899+0.000000j), (1.066247+0.000000j), (-0.114834+0.000000j), (-0.114834+0.000000j), (-0.881770+0.000000j), ..., (0.007875+0.000000j), (-0.881770+0.000000j), (-0.114834+0.000000j), (0.376005+0.000000j), (0.468037+0.000000j) ])\n",
      "(level: 29, log(num slots): 9, data: [ (0.057371+0.000000j), (1.269561+0.000000j), (-0.766568+0.000000j), (-0.250644+0.000000j), (-0.589459+0.000000j), ..., (-0.439559+0.000000j), (0.673399+0.000000j), (-0.230109+0.000000j), (0.324317+0.000000j), (-0.735253+0.000000j) ])\n",
      "(level: 29, log(num slots): 9, data: [ (-1.039018+0.000000j), (-1.860504+0.000000j), (-1.186886+0.000000j), (-0.316111+0.000000j), (-1.449761+0.000000j), ..., (-1.515480+0.000000j), (0.242499+0.000000j), (-0.644705+0.000000j), (-0.118955+0.000000j), (-0.546127+0.000000j) ])\n",
      "(level: 29, log(num slots): 9, data: [ (0.354729+0.000000j), (0.354729+0.000000j), (0.354729+0.000000j), (0.354729+0.000000j), (0.354729+0.000000j), ..., (0.354729+0.000000j), (0.354729+0.000000j), (0.354729+0.000000j), (0.354729+0.000000j), (0.354729+0.000000j) ])\n"
     ]
    }
   ],
   "source": [
    "for i in range(features_num):\n",
    "    print(ct[i])"
   ]
  },
  {
   "cell_type": "code",
   "execution_count": 18,
   "metadata": {},
   "outputs": [],
   "source": [
    "ans = heaan.Message(logslots)\n",
    "for i in range(numslots):\n",
    "    ans[i] = train_y.loc[i]\n",
    "\n",
    "ans_ct = heaan.Ciphertext(context)\n",
    "encryptor.encrypt(ans, public_key, ans_ct)"
   ]
  },
  {
   "cell_type": "code",
   "execution_count": 19,
   "metadata": {},
   "outputs": [
    {
     "data": {
      "text/plain": [
       "(level: 29, log(num slots): 9, data: [ (0.000000+0.000000j), (0.000000+0.000000j), (0.000000+0.000000j), (1.000000+0.000000j), (0.000000+0.000000j), ..., (0.000000+0.000000j), (1.000000+0.000000j), (1.000000+0.000000j), (0.000000+0.000000j), (0.000000+0.000000j) ])"
      ]
     },
     "execution_count": 19,
     "metadata": {},
     "output_type": "execute_result"
    }
   ],
   "source": [
    "ans_ct"
   ]
  },
  {
   "cell_type": "code",
   "execution_count": 20,
   "metadata": {},
   "outputs": [],
   "source": [
    "def cal_avg(ciphertext, N, logslots):\n",
    "    evaluator = heaan.HomEvaluator(context, public_key)   \n",
    "    ciphertext_out_avg = heaan.Ciphertext(context, logslots)\n",
    "    \n",
    "    for i in range(N):\n",
    "        evaluator.add(ciphertext, ciphertext_out_avg, ciphertext_out_avg)\n",
    "        evaluator.right_rotate(ciphertext, 1, ciphertext)\n",
    "    \n",
    "    evaluator.mult(ciphertext_out_avg, 1/N, ciphertext_out_avg)\n",
    "    return ciphertext_out_avg"
   ]
  },
  {
   "cell_type": "code",
   "execution_count": 21,
   "metadata": {},
   "outputs": [],
   "source": [
    "def hypothesis(eval, ct, weight_ct):\n",
    "    sum_ct = heaan.Ciphertext(context, logslots)\n",
    "    for i in range(weightnum):\n",
    "        mult_ct = heaan.Ciphertext(context, logslots)\n",
    "        evaluator.mult(ct[i], weight_ct[i], mult_ct)\n",
    "        evaluator.add(sum_ct, mult_ct, sum_ct)\n",
    "    hy_ct = heaan.Ciphertext(context, logslots)\n",
    "    approx.sigmoid(evaluator, sum_ct, hy_ct, 1.0)\n",
    "    \n",
    "    return hy_ct"
   ]
  },
  {
   "cell_type": "code",
   "execution_count": 22,
   "metadata": {},
   "outputs": [],
   "source": [
    "def loss_fn_cross_entropy(eval, hy_ct, ans_ct):\n",
    "    # loss = -((Y * log(Hypothesis)) + ((1 - Y) * log(1 - Hypothesis)))\n",
    "    loss_l = heaan.Ciphertext(context, logslots)        # Y * log(Hypothesis)\n",
    "    loss_r = heaan.Ciphertext(context, logslots)        # (1 - Y) * log(1 - Hypothesis)\n",
    "    one_miuns_y = heaan.Ciphertext(context, logslots)   # 1 - Y\n",
    "    \n",
    "    # Y * log(Hypothesis)\n",
    "    approx.log_2(eval, hy_ct, loss_l)\n",
    "    eval.mult(ans_ct, loss_l, loss_l)\n",
    "    \n",
    "    # 1 - Y\n",
    "    eval.sub(ans_ct, 1, one_miuns_y)\n",
    "    eval.negate(one_miuns_y, one_miuns_y)\n",
    "    \n",
    "    # log(1 - Hypothesis)\n",
    "    eval.sub(hy_ct, 1, loss_r)\n",
    "    eval.negate(loss_r, loss_r)\n",
    "    approx.log_2(eval, loss_r, loss_r)\n",
    "    \n",
    "    # (1 - Y) * log(1 - Hypothesis)\n",
    "    eval.mult(loss_r, one_miuns_y, loss_r)\n",
    "    \n",
    "    # -((Y * log(Hypothesis)) + ((1 - Y) * log(1 - Hypothesis)))\n",
    "    eval.add(loss_l, loss_r, loss_l)\n",
    "    eval.negate(loss_l, loss_l)\n",
    "    \n",
    "    return loss_l\n",
    "    \n",
    "    \n",
    "def fit_cross_entropy(ct, ans_ct, epoch=30, lr=0.05):\n",
    "    evaluator = heaan.HomEvaluator(context, public_key)\n",
    "    encryptor = heaan.Encryptor(context)\n",
    "\n",
    "    weight = np.random.uniform(size = weightnum)\n",
    "    weight_ct = []\n",
    "\n",
    "    # weight_ct를 6x1의 벡터로 만드려 했으나,\n",
    "    # CipherText는 index로 접근할 수 없어서 6x512의 행렬로 만들었습니다.\n",
    "    for i in range(weightnum):\n",
    "        message = heaan.Message(logslots)\n",
    "        for j in range(numslots):\n",
    "            message[j] = weight[i]\n",
    "        weight_ct.append(heaan.Ciphertext(context, logslots))\n",
    "        encryptor.encrypt(message, public_key, weight_ct[i])\n",
    "\n",
    "    # weight_ct_new = weight_ct - avg(((hypothesis - Y) * lr) * X)\n",
    "    for j in range(epoch):\n",
    "        # 가설 함수\n",
    "        hy_ct = hypothesis(evaluator, ct, weight_ct)\n",
    "        \n",
    "        # hy_ct = (hypothesis - Y) * lr\n",
    "        evaluator.sub(hy_ct, ans_ct, hy_ct)\n",
    "        evaluator.mult(hy_ct, lr, hy_ct)\n",
    "\n",
    "        # 편미분 값 계산 및 가중치 업데이트\n",
    "        grad = []\n",
    "        for i in range(weightnum):\n",
    "            grad.append(heaan.Ciphertext(context))\n",
    "            \n",
    "            # hy_ct = (hypothesis - Y) * lr\n",
    "            # grad[i] = avg(hy_ct * X)\n",
    "            evaluator.mult(ct[i], hy_ct, grad[i])\n",
    "            grad[i] = cal_avg(grad[i], numslots, logslots)\n",
    "            \n",
    "            # weight_ct_new[i] = weight_ct[i] - grad[i]\n",
    "            evaluator.sub(weight_ct[i], grad[i], weight_ct[i])\n",
    "            \n",
    "            # 부트스트랩의 적절한 시점을 잘 모르겠습니다.\n",
    "            # 6보다 작을 때 부트스트랩 시행 기준\n",
    "            # 많은 횟수의 트레이닝에서 간혹 nan이 발생하는 것을 확인했습니다.\n",
    "            # 또한, 부트스트랩의 이론적 원리를 모르는 상태이므로 help를 이용해서\n",
    "            # 함수의 호출 방법만 확인하고 사용했습니다.\n",
    "            if(weight_ct[i].level < 6):\n",
    "                evaluator.bootstrap(weight_ct[i], weight_ct[i])\n",
    "                # print(\"bootstrap\", i)\n",
    "                \n",
    "        print(\"cost\", j, \": \", loss_fn_cross_entropy(evaluator, hy_ct, ans_ct))\n",
    "        \n",
    "    return weight_ct"
   ]
  },
  {
   "cell_type": "code",
   "execution_count": 23,
   "metadata": {},
   "outputs": [],
   "source": [
    "def loss_fn_mse(eval, loss):\n",
    "    eval.mult(loss, loss, loss)\n",
    "    loss = cal_avg(loss, numslots, logslots)\n",
    "    return loss\n",
    "\n",
    "def fit_mse(ct, ans_ct, epoch=30, lr=0.05):\n",
    "    evaluator = heaan.HomEvaluator(context, public_key)\n",
    "    encryptor = heaan.Encryptor(context)\n",
    "\n",
    "    weight = np.random.uniform(size = weightnum)\n",
    "    weight_ct = []\n",
    "\n",
    "    # weight_ct를 6x1의 벡터로 만드려 했으나,\n",
    "    # CipherText는 index로 접근할 수 없어서 6x512의 행렬로 만들었습니다.\n",
    "    for i in range(weightnum):\n",
    "        message = heaan.Message(logslots)\n",
    "        for j in range(numslots):\n",
    "            message[j] = weight[i]\n",
    "        weight_ct.append(heaan.Ciphertext(context, logslots))\n",
    "        encryptor.encrypt(message, public_key, weight_ct[i])\n",
    "\n",
    "    # weight_ct_new = MSE\n",
    "    for j in range(epoch):\n",
    "        hy_ct = hypothesis(evaluator, ct, weight_ct)\n",
    "\n",
    "        error_ct = heaan.Ciphertext(context, logslots)\n",
    "        evaluator.sub(hy_ct, ans_ct, error_ct)\n",
    "\n",
    "        # 기울기 및 가중치 업데이트\n",
    "        for i in range(weightnum):\n",
    "            grad_ct = heaan.Ciphertext(context, logslots)\n",
    "            evaluator.mult(ct[i], error_ct, grad_ct)\n",
    "\n",
    "            avg_grad_ct = cal_avg(grad_ct, numslots, logslots)\n",
    "            evaluator.mult(avg_grad_ct, 2.0 / numslots, avg_grad_ct)\n",
    "\n",
    "            evaluator.mult(avg_grad_ct, lr, avg_grad_ct)\n",
    "            evaluator.sub(weight_ct[i], avg_grad_ct, weight_ct[i])\n",
    "\n",
    "            if weight_ct[i].level < 6:\n",
    "                evaluator.bootstrap(weight_ct[i], weight_ct[i])\n",
    "        print(\"cost\", j, \": \", loss_fn_mse(evaluator, error_ct))\n",
    "        if error_ct.level < 6:\n",
    "            evaluator.bootstrap(error_ct, error_ct)\n",
    "        \n",
    "    return weight_ct"
   ]
  },
  {
   "cell_type": "code",
   "execution_count": 24,
   "metadata": {},
   "outputs": [
    {
     "name": "stdout",
     "output_type": "stream",
     "text": [
      "cost 0 :  (level: 9, log(num slots): 9, data: [ (0.046220+0.000000j), (0.066698+0.000000j), (0.043473+0.000000j), (-900702204359787028371632571667668453351266621839358846026052040012438890239508902279621305868590468479090842297616582772074202376522452970671913385746431524256915019038638424279564377688761030625224831036292710777749486469823124483081735245806403030311960591234702152321466368.000000+0.000000j), (0.017511+0.000000j), ..., (0.040491+0.000000j), (-1524049813806299346810983132359713662561673901202472960.000000+0.000000j), (nan+nanj), (0.062480+0.000000j), (0.046218+0.000000j) ])\n",
      "cost 1 :  (level: 9, log(num slots): 9, data: [ (0.045737+0.000000j), (0.066478+0.000000j), (0.042959+0.000000j), (-45697903968607401257593333640755406497472855724337557044743104415084571773132096158121064236283387171647163442607232714408614067716627815053883362823880698125417031837343061172769998046498310748466742405393557704076953364643694192758609385889997213668588754941516045620447442219510966255616.000000+0.000000j), (0.017294+0.000000j), ..., (0.040038+0.000000j), (-4262763361021694225927190092144652602342862982682003898368.000000+0.000000j), (nan+nanj), (0.062163+0.000000j), (0.045823+0.000000j) ])\n",
      "cost 2 :  (level: 9, log(num slots): 9, data: [ (0.045256+0.000000j), (0.066255+0.000000j), (0.042450+0.000000j), (-6265990862364333360526714031307567216724748985572759136805688074295141898529654300614025622876841174448707179240021936392542044325161528238660217783466304307937825053116511453582788078279979814690843137211759659851059630577845954676484046873043185508108554172175799950721117980433893597924221584379215872.000000+0.000000j), (0.017082+0.000000j), ..., (0.039590+0.000000j), (-21368599123278723741634836329391147316796959563736731348893696.000000+0.000000j), (nan+nanj), (0.061843+0.000000j), (0.045429+0.000000j) ])\n",
      "cost 3 :  (level: 9, log(num slots): 9, data: [ (0.044778+0.000000j), (0.066028+0.000000j), (0.041945+0.000000j), (-inf+nanj), (0.016875+0.000000j), ..., (0.039148+0.000000j), (-197023582807294476915687050475633350733170287759700897600389513216.000000+0.000000j), (nan+nanj), (0.061518+0.000000j), (0.045037+0.000000j) ])\n",
      "cost 4 :  (level: 9, log(num slots): 9, data: [ (0.044303+0.000000j), (0.065799+0.000000j), (0.041444+0.000000j), (-inf+nanj), (0.016673+0.000000j), ..., (0.038710+0.000000j), (-3433852220339424406645465985591518805130095681761674362583529816064000.000000+0.000000j), (nan+nanj), (0.061190+0.000000j), (0.044646+0.000000j) ])\n",
      "cost 5 :  (level: 9, log(num slots): 9, data: [ (0.043832+0.000000j), (0.065567+0.000000j), (0.040949+0.000000j), (nan+nanj), (0.016475+0.000000j), ..., (0.038278+0.000000j), (-116440284807061944299466911332572097317058843187929590388852731636304838656.000000+0.000000j), (nan+nanj), (0.060858+0.000000j), (0.044258+0.000000j) ])\n",
      "cost 6 :  (level: 9, log(num slots): 9, data: [ (0.043364+0.000000j), (0.065332+0.000000j), (0.040459+0.000000j), (nan+nanj), (0.016281+0.000000j), ..., (0.037851+0.000000j), (-7919722108197298482004094945225941208880396519704382232450921164541259509923840.000000+0.000000j), (nan+nanj), (0.060523+0.000000j), (0.043872+0.000000j) ])\n",
      "cost 7 :  (level: 9, log(num slots): 9, data: [ (0.042900+0.000000j), (0.065094+0.000000j), (0.039974+0.000000j), (nan+nanj), (0.016092+0.000000j), ..., (0.037430+0.000000j), (-1115503873560546420815109124999497108930604116558099384653768397954015933345912848384.000000+0.000000j), (nan+nanj), (0.060185+0.000000j), (0.043488+0.000000j) ])\n",
      "cost 8 :  (level: 9, log(num slots): 9, data: [ (0.042440+0.000000j), (0.064854+0.000000j), (0.039495+0.000000j), (nan+nanj), (0.015907+0.000000j), ..., (0.037015+0.000000j), (-336346521860401770148653837523643915754006039891965793704689795758170658271790549105115136.000000+0.000000j), (nan+nanj), (0.059844+0.000000j), (0.043107+0.000000j) ])\n",
      "cost 9 :  (level: 9, log(num slots): 9, data: [ (0.041984+0.000000j), (0.064612+0.000000j), (0.039022+0.000000j), (nan+nanj), (0.015726+0.000000j), ..., (0.036605+0.000000j), (-224603028021591726698050820894630836078701378456314226560471153004710595250985713212759662919680.000000+0.000000j), (nan+nanj), (0.059500+0.000000j), (0.042728+0.000000j) ])\n",
      "cost 10 :  (level: 9, log(num slots): 9, data: [ (0.041532+0.000000j), (0.064368+0.000000j), (0.038554+0.000000j), (nan+nanj), (0.015550+0.000000j), ..., (0.036201+0.000000j), (-343753114552008855959460349422467008496082045521271359398652172080208826439623988979043953666731016192.000000+0.000000j), (nan+nanj), (0.059154+0.000000j), (0.042352+0.000000j) ])\n",
      "cost 11 :  (level: 9, log(num slots): 9, data: [ (0.041086+0.000000j), (0.064121+0.000000j), (0.038093+0.000000j), (nan+nanj), (0.015377+0.000000j), ..., (0.035803+0.000000j), (-1247477084509719838378134871860681823359032978568462908226506277024318613605994750975218913163392728164204544.000000+0.000000j), (nan+nanj), (0.058805+0.000000j), (0.041978+0.000000j) ])\n",
      "cost 12 :  (level: 9, log(num slots): 9, data: [ (0.040643+0.000000j), (0.063873+0.000000j), (0.037638+0.000000j), (nan+nanj), (0.015208+0.000000j), ..., (0.035411+0.000000j), (-11094095037578983686765079864117788321199650864751056689249083285669480790426534848792121638237032031527555653697536.000000+0.000000j), (nan+nanj), (0.058454+0.000000j), (0.041608+0.000000j) ])\n",
      "cost 13 :  (level: 9, log(num slots): 9, data: [ (0.040206+0.000000j), (0.063622+0.000000j), (0.037189+0.000000j), (nan+nanj), (0.015043+0.000000j), ..., (0.035025+0.000000j), (-249458559806155131127271187615165584428620890180006682625493202723203065633874149452785648201282496007640280211262839717888.000000+0.000000j), (nan+nanj), (0.058102+0.000000j), (0.041240+0.000000j) ])\n",
      "cost 14 :  (level: 9, log(num slots): 9, data: [ (0.039774+0.000000j), (0.063370+0.000000j), (0.036746+0.000000j), (nan+nanj), (0.014882+0.000000j), ..., (0.034645+0.000000j), (-14597303446415386667997837757293838523428945920919863867795001389588661797777318009078744272546156743454100403209348829859884826624.000000+0.000000j), (nan+nanj), (0.057747+0.000000j), (0.040875+0.000000j) ])\n",
      "cost 15 :  (level: 9, log(num slots): 9, data: [ (0.039347+0.000000j), (0.063117+0.000000j), (0.036310+0.000000j), (nan+nanj), (0.014724+0.000000j), ..., (0.034270+0.000000j), (-2280811080738976648155689594655447623885010107280776711208860508326462404914116468354875831851529314863950877758003006101049687835267825664.000000+0.000000j), (nan+nanj), (0.057391+0.000000j), (0.040513+0.000000j) ])\n",
      "cost 16 :  (level: 9, log(num slots): 9, data: [ (0.038925+0.000000j), (0.062862+0.000000j), (0.035881+0.000000j), (nan+nanj), (0.014570+0.000000j), ..., (0.033902+0.000000j), (-972780038828574512389594438352371747626913767140431374882877555833893145895357283544841374497105025795735074059900463388913082839256661784675745792.000000+0.000000j), (nan+nanj), (0.057033+0.000000j), (0.040155+0.000000j) ])\n",
      "cost 17 :  (level: 9, log(num slots): 9, data: [ (0.038509+0.000000j), (0.062606+0.000000j), (0.035458+0.000000j), (nan+nanj), (0.014419+0.000000j), ..., (0.033540+0.000000j), (-1152879320614976251318776619844890277909482155124363650129278290031367258006012697355566708949016248797793150551551541876959047180326969616053076276616888320.000000+0.000000j), (nan+nanj), (0.056674+0.000000j), (0.039800+0.000000j) ])\n",
      "cost 18 :  (level: 9, log(num slots): 9, data: [ (0.038097+0.000000j), (0.062349+0.000000j), (0.035041+0.000000j), (nan+nanj), (0.014272+0.000000j), ..., (0.033183+0.000000j), (-3847045308072152353381461651629964829357049145396071762645575577332772521060501948214419986519537548551918327131110593330992616091114711058767869478823933757381148672.000000+0.000000j), (nan+nanj), (0.056314+0.000000j), (0.039448+0.000000j) ])\n",
      "cost 19 :  (level: 9, log(num slots): 9, data: [ (0.037692+0.000000j), (0.062090+0.000000j), (0.034632+0.000000j), (nan+nanj), (0.014128+0.000000j), ..., (0.032832+0.000000j), (-36446080662406999611782642048617602575561886336885223623739335132645419796501490723898030581101720374448843630604910330851874747019195025480575269600371660484717286176883474432.000000+0.000000j), (nan+nanj), (0.055954+0.000000j), (0.039099+0.000000j) ])\n",
      "cost 20 :  (level: 9, log(num slots): 9, data: [ (0.037292+0.000000j), (0.061831+0.000000j), (0.034229+0.000000j), (nan+nanj), (0.013987+0.000000j), ..., (0.032488+0.000000j), (-983495934501012346955372270453633017188912774492181496805486414863577413277562836347227556976974680081954536000280015281500288055924169909152409286494604763065959069863720936305009360896.000000+0.000000j), (nan+nanj), (0.055593+0.000000j), (0.038753+0.000000j) ])\n",
      "cost 21 :  (level: 9, log(num slots): 9, data: [ (0.036897+0.000000j), (0.061571+0.000000j), (0.033833+0.000000j), (nan+nanj), (0.013849+0.000000j), ..., (0.032149+0.000000j), (-75459895589945093554975689904717975810668457220778416759106784854360029750437661116366463441928951802245053878748213531354792287718970410198731543848812282986069507936737909043167852002613206712320.000000+0.000000j), (nan+nanj), (0.055231+0.000000j), (0.038412+0.000000j) ])\n",
      "cost 22 :  (level: 9, log(num slots): 9, data: [ (0.036509+0.000000j), (0.061311+0.000000j), (0.033443+0.000000j), (nan+nanj), (0.013715+0.000000j), ..., (0.031816+0.000000j), (-16351508312171802687951911172079035013518292135696877116938860335340198539223095084233983423804591789590852887574944818023960963799768760378550474340671443828982979282920945140301522494021242315118097677156352.000000+0.000000j), (nan+nanj), (0.054869+0.000000j), (0.038073+0.000000j) ])\n",
      "cost 23 :  (level: 9, log(num slots): 9, data: [ (0.036125+0.000000j), (0.061049+0.000000j), (0.033060+0.000000j), (nan+nanj), (0.013583+0.000000j), ..., (0.031488+0.000000j), (-9892846600023253808036236089392735346172256211683791483162827068583042876793248941410594239567657489450728362037620622703190316912976697842784610718720193311677712214555982127693869247318235518878628068729217281618345984.000000+0.000000j), (nan+nanj), (0.054507+0.000000j), (0.037738+0.000000j) ])\n",
      "cost 24 :  (level: 9, log(num slots): 9, data: [ (0.035748+0.000000j), (0.060788+0.000000j), (0.032684+0.000000j), (nan+nanj), (0.013454+0.000000j), ..., (0.031166+0.000000j), (-16448073837509158423607417695508211270246183861494601024808656745306390290726427040778046508664593094816985827867737129558146431893928148567265572839326765555112053898046253733316658314539983248180408422280904634451898912753468833792.000000+0.000000j), (nan+nanj), (0.054145+0.000000j), (0.037407+0.000000j) ])\n",
      "cost 25 :  (level: 9, log(num slots): 9, data: [ (0.035376+0.000000j), (0.060526+0.000000j), (0.032314+0.000000j), (nan+nanj), (0.013328+0.000000j), ..., (0.030850+0.000000j), (-73671977152395451322071995437084170423570951073248407062688690237488911467645133712506998795358745659970056534552026303764178228350943493861199621680774266446684429660887221913406730398861873948895505887064862351510533616526901872347339309449216.000000+0.000000j), (nan+nanj), (0.053783+0.000000j), (0.037079+0.000000j) ])\n",
      "cost 26 :  (level: 9, log(num slots): 9, data: [ (0.035010+0.000000j), (0.060264+0.000000j), (0.031950+0.000000j), (nan+nanj), (0.013205+0.000000j), ..., (0.030540+0.000000j), (-868350661955730879796205286529547005187460939521955930211546707594962213993619623493694837244824080551121143429101730557884231071946775074848977677534586703711763506496552552197260002278551502375666191761228229703282583628819129221706595860945651342317191168.000000+0.000000j), (nan+nanj), (0.053422+0.000000j), (0.036755+0.000000j) ])\n",
      "cost 27 :  (level: 9, log(num slots): 9, data: [ (0.034650+0.000000j), (0.060002+0.000000j), (0.031594+0.000000j), (nan+nanj), (0.013085+0.000000j), ..., (0.030235+0.000000j), (-26227881228496653420221928832617605188830409954032166858378906400867210426425758546117245744081941121808061035900199846171845129852679944914334605798938987770257010177686249402361217407734569221519367941023735488516358319404740484537797654431704569401235486276871656570880.000000+0.000000j), (nan+nanj), (0.053062+0.000000j), (0.036434+0.000000j) ])\n",
      "cost 28 :  (level: 9, log(num slots): 9, data: [ (0.034295+0.000000j), (0.059740+0.000000j), (0.031243+0.000000j), (nan+nanj), (0.012967+0.000000j), ..., (0.029935+0.000000j), (-1971734974677037224107180193986021226101924697908408415319442858194103090698138096474486495906147424182654429529915436384136317801950288887156201669151122128107112119339728637313500321957110470388590808693254655806088535746103479814952034886509321013702675274125971306426322593421197312.000000+0.000000j), (nan+nanj), (0.052702+0.000000j), (0.036117+0.000000j) ])\n",
      "cost 29 :  (level: 9, log(num slots): 9, data: [ (0.033946+0.000000j), (0.059478+0.000000j), (0.030899+0.000000j), (nan+nanj), (0.012851+0.000000j), ..., (0.029641+0.000000j), (-357583682490337980857598999484569933248744203205451890145209883933446581470970499891241196739589853963953413936472152370755284083211741693085588967178330114259451594228828694125865882944497335833096960795183411800363106678110492824065245965861806670996518897809223267429586832882079979859150792294400.000000+0.000000j), (nan+nanj), (0.052343+0.000000j), (0.035803+0.000000j) ])\n"
     ]
    }
   ],
   "source": [
    "weight_ct = fit_cross_entropy(ct, ans_ct, epoch=30, lr=0.05)\n",
    "# weight_ct = fit_mse(ct, ans_ct, epoch=30, lr=0.05)"
   ]
  },
  {
   "cell_type": "code",
   "execution_count": 25,
   "metadata": {},
   "outputs": [
    {
     "data": {
      "text/plain": [
       "[(level: 7, log(num slots): 9, data: [ (0.301161+0.000000j), (0.301161+0.000000j), (0.301161+0.000000j), (0.301161+0.000000j), (0.301161+0.000000j), ..., (0.301161+0.000000j), (0.301161+0.000000j), (0.301161+0.000000j), (0.301161+0.000000j), (0.301161+0.000000j) ]),\n",
       " (level: 7, log(num slots): 9, data: [ (0.575665+0.000000j), (0.575665+0.000000j), (0.575665+0.000000j), (0.575665+0.000000j), (0.575665+0.000000j), ..., (0.575665+0.000000j), (0.575665+0.000000j), (0.575665+0.000000j), (0.575665+0.000000j), (0.575665+0.000000j) ]),\n",
       " (level: 7, log(num slots): 9, data: [ (0.291466+0.000000j), (0.291466+0.000000j), (0.291466+0.000000j), (0.291466+0.000000j), (0.291466+0.000000j), ..., (0.291466+0.000000j), (0.291466+0.000000j), (0.291466+0.000000j), (0.291466+0.000000j), (0.291466+0.000000j) ]),\n",
       " (level: 7, log(num slots): 9, data: [ (0.668427+0.000000j), (0.668427+0.000000j), (0.668427+0.000000j), (0.668427+0.000000j), (0.668427+0.000000j), ..., (0.668427+0.000000j), (0.668427+0.000000j), (0.668427+0.000000j), (0.668427+0.000000j), (0.668427+0.000000j) ]),\n",
       " (level: 7, log(num slots): 9, data: [ (0.317105+0.000000j), (0.317105+0.000000j), (0.317105+0.000000j), (0.317105+0.000000j), (0.317105+0.000000j), ..., (0.317105+0.000000j), (0.317105+0.000000j), (0.317105+0.000000j), (0.317105+0.000000j), (0.317105+0.000000j) ]),\n",
       " (level: 7, log(num slots): 9, data: [ (-0.182732+0.000000j), (-0.182732+0.000000j), (-0.182732+0.000000j), (-0.182732+0.000000j), (-0.182732+0.000000j), ..., (-0.182732+0.000000j), (-0.182732+0.000000j), (-0.182732+0.000000j), (-0.182732+0.000000j), (-0.182732+0.000000j) ])]"
      ]
     },
     "execution_count": 25,
     "metadata": {},
     "output_type": "execute_result"
    }
   ],
   "source": [
    "weight_ct"
   ]
  },
  {
   "cell_type": "code",
   "execution_count": 26,
   "metadata": {},
   "outputs": [
    {
     "name": "stdout",
     "output_type": "stream",
     "text": [
      "(level: 29, log(num slots): 9, data: [ (1.000000+0.000000j), (1.000000+0.000000j), (1.000000+0.000000j), (1.000000+0.000000j), (1.000000+0.000000j), ..., (1.000000+0.000000j), (1.000000+0.000000j), (1.000000+0.000000j), (1.000000+0.000000j), (1.000000+0.000000j) ])\n",
      "(level: 29, log(num slots): 9, data: [ (-0.028868+0.000000j), (1.055468+0.000000j), (0.625176+0.000000j), (0.410030+0.000000j), (-1.164840+0.000000j), ..., (0.246519+0.000000j), (0.625176+0.000000j), (-0.287044+0.000000j), (0.625176+0.000000j), (0.410030+0.000000j) ])\n",
      "(level: 29, log(num slots): 9, data: [ (-0.298899+0.000000j), (1.066247+0.000000j), (-0.114834+0.000000j), (-0.114834+0.000000j), (-0.881770+0.000000j), ..., (0.007875+0.000000j), (-0.881770+0.000000j), (-0.114834+0.000000j), (0.376005+0.000000j), (0.468037+0.000000j) ])\n",
      "(level: 29, log(num slots): 9, data: [ (0.057371+0.000000j), (1.269561+0.000000j), (-0.766568+0.000000j), (-0.250644+0.000000j), (-0.589459+0.000000j), ..., (-0.439559+0.000000j), (0.673399+0.000000j), (-0.230109+0.000000j), (0.324317+0.000000j), (-0.735253+0.000000j) ])\n",
      "(level: 29, log(num slots): 9, data: [ (-1.039018+0.000000j), (-1.860504+0.000000j), (-1.186886+0.000000j), (-0.316111+0.000000j), (-1.449761+0.000000j), ..., (-1.515480+0.000000j), (0.242499+0.000000j), (-0.644705+0.000000j), (-0.118955+0.000000j), (-0.546127+0.000000j) ])\n",
      "(level: 29, log(num slots): 9, data: [ (0.354729+0.000000j), (0.354729+0.000000j), (0.354729+0.000000j), (0.354729+0.000000j), (0.354729+0.000000j), ..., (0.354729+0.000000j), (0.354729+0.000000j), (0.354729+0.000000j), (0.354729+0.000000j), (0.354729+0.000000j) ])\n"
     ]
    }
   ],
   "source": [
    "for i in range(weightnum):\n",
    "    print(ct[i])"
   ]
  },
  {
   "cell_type": "code",
   "execution_count": 27,
   "metadata": {},
   "outputs": [],
   "source": [
    "sum_ct = heaan.Ciphertext(context, logslots)\n",
    "for i in range(weightnum):\n",
    "    mult_ct = heaan.Ciphertext(context, logslots)\n",
    "    evaluator.mult(ct[i], weight_ct[i], mult_ct)\n",
    "    evaluator.add(sum_ct, mult_ct, sum_ct)"
   ]
  },
  {
   "cell_type": "code",
   "execution_count": 28,
   "metadata": {},
   "outputs": [
    {
     "data": {
      "text/plain": [
       "(level: 6, log(num slots): 9, data: [ (-0.158526+0.000000j), (1.413346+0.000000j), (-0.326000+0.000000j), (0.171133+0.000000j), (-1.544959+0.000000j), ..., (-0.393831+0.000000j), (0.866243+0.000000j), (-0.320621+0.000000j), (0.884886+0.000000j), (-0.055846+0.000000j) ])"
      ]
     },
     "execution_count": 28,
     "metadata": {},
     "output_type": "execute_result"
    }
   ],
   "source": [
    "sum_ct"
   ]
  },
  {
   "cell_type": "code",
   "execution_count": 29,
   "metadata": {},
   "outputs": [],
   "source": [
    "pred_ct = heaan.Ciphertext(context)\n",
    "approx.sigmoid(evaluator, sum_ct, pred_ct, 1.0)"
   ]
  },
  {
   "cell_type": "code",
   "execution_count": 30,
   "metadata": {},
   "outputs": [
    {
     "data": {
      "text/plain": [
       "(level: 10, log(num slots): 9, data: [ (0.460452+0.000000j), (0.804293+0.000000j), (0.419216+0.000000j), (0.542678+0.000000j), (0.175817+0.000000j), ..., (0.402797+0.000000j), (0.703965+0.000000j), (0.420526+0.000000j), (0.707835+0.000000j), (0.486043+0.000000j) ])"
      ]
     },
     "execution_count": 30,
     "metadata": {},
     "output_type": "execute_result"
    }
   ],
   "source": [
    "pred_ct"
   ]
  },
  {
   "cell_type": "code",
   "execution_count": 31,
   "metadata": {},
   "outputs": [
    {
     "data": {
      "text/plain": [
       "(level: 29, log(num slots): 9, data: [ (0.000000+0.000000j), (0.000000+0.000000j), (0.000000+0.000000j), (1.000000+0.000000j), (0.000000+0.000000j), ..., (0.000000+0.000000j), (1.000000+0.000000j), (1.000000+0.000000j), (0.000000+0.000000j), (0.000000+0.000000j) ])"
      ]
     },
     "execution_count": 31,
     "metadata": {},
     "output_type": "execute_result"
    }
   ],
   "source": [
    "ans_ct"
   ]
  },
  {
   "cell_type": "code",
   "execution_count": null,
   "metadata": {},
   "outputs": [],
   "source": []
  },
  {
   "cell_type": "code",
   "execution_count": 32,
   "metadata": {},
   "outputs": [],
   "source": [
    "pred_pt = heaan.Message(logslots)\n",
    "decryptor.decrypt(pred_ct, secret_key, pred_pt)\n",
    "\n",
    "pred = []\n",
    "for i in range(numslots):\n",
    "    pred.append(pred_pt[i])"
   ]
  },
  {
   "cell_type": "code",
   "execution_count": 33,
   "metadata": {},
   "outputs": [],
   "source": [
    "for i in range(len(pred)):\n",
    "    pred[i] = pred[i].real"
   ]
  },
  {
   "cell_type": "code",
   "execution_count": 34,
   "metadata": {},
   "outputs": [],
   "source": [
    "threshold = 0.95\n",
    "prediction = [1 if i > threshold else 0 for i in pred]"
   ]
  },
  {
   "cell_type": "code",
   "execution_count": 35,
   "metadata": {},
   "outputs": [
    {
     "data": {
      "text/plain": [
       "0.802734375"
      ]
     },
     "execution_count": 35,
     "metadata": {},
     "output_type": "execute_result"
    }
   ],
   "source": [
    "from sklearn.metrics import accuracy_score\n",
    "\n",
    "# epoch 30 기준, 약 0.8의 정확도를 보였습니다.\n",
    "# 예상치에 가까운 것인지 확인 부탁드립니다.\n",
    "accuracy_score(train_y, prediction)"
   ]
  },
  {
   "cell_type": "code",
   "execution_count": null,
   "metadata": {},
   "outputs": [],
   "source": []
  },
  {
   "cell_type": "code",
   "execution_count": 36,
   "metadata": {},
   "outputs": [
    {
     "data": {
      "text/plain": [
       "(     constant       LVR      RATE    AMOUNT    CREDIT      TERM\n",
       " 0           1 -2.192733  0.846046 -1.357284  0.767113 -2.560727\n",
       " 1           1  0.391852  0.540178  0.305117 -1.810741  0.414520\n",
       " 2           1  0.391852 -0.388651 -0.758820 -0.934271  0.414520\n",
       " 3           1  0.391852 -0.276406  1.236061 -0.556185  0.414520\n",
       " 4           1  1.240458  0.060330  1.568541  0.320285  0.414520\n",
       " ..        ...       ...       ...       ...       ...       ...\n",
       " 507         1  0.391852 -0.854468 -0.553632  0.028128  0.414520\n",
       " 508         1  0.745079 -0.192222  1.055572  0.045314  0.414520\n",
       " 509         1  0.391852 -1.146306  0.046732  1.042084  0.414520\n",
       " 510         1 -0.081988 -0.079977 -0.757870 -0.642114  0.414520\n",
       " 511         1  1.037999  0.354973  3.606169  0.045314  0.414520\n",
       " \n",
       " [512 rows x 6 columns],\n",
       " 0      0\n",
       " 1      1\n",
       " 2      0\n",
       " 3      1\n",
       " 4      0\n",
       "       ..\n",
       " 507    0\n",
       " 508    0\n",
       " 509    0\n",
       " 510    1\n",
       " 511    1\n",
       " Name: DELINQUENT, Length: 512, dtype: int64)"
      ]
     },
     "execution_count": 36,
     "metadata": {},
     "output_type": "execute_result"
    }
   ],
   "source": [
    "test_x, test_y"
   ]
  },
  {
   "cell_type": "code",
   "execution_count": 37,
   "metadata": {},
   "outputs": [],
   "source": [
    "test_ct = []\n",
    "features_num = test_x.shape[1]\n",
    "\n",
    "for i in range(features_num):\n",
    "    message = heaan.Message(logslots)\n",
    "    for j in range(numslots):\n",
    "        message[j] = test_x.iloc[j, i]\n",
    "    ciphertext = heaan.Ciphertext(context)\n",
    "    encryptor.encrypt(message, public_key, ciphertext)\n",
    "    test_ct.append(ciphertext)"
   ]
  },
  {
   "cell_type": "code",
   "execution_count": 38,
   "metadata": {},
   "outputs": [],
   "source": [
    "test_ans = heaan.Message(logslots)\n",
    "for i in range(numslots):\n",
    "    test_ans[i] = test_y.loc[i]\n",
    "\n",
    "test_ans_ct = heaan.Ciphertext(context)\n",
    "encryptor.encrypt(test_ans, public_key, test_ans_ct)"
   ]
  },
  {
   "cell_type": "code",
   "execution_count": 39,
   "metadata": {},
   "outputs": [],
   "source": [
    "test_sum_ct = heaan.Ciphertext(context, logslots)\n",
    "for i in range(weightnum):\n",
    "    mult_ct = heaan.Ciphertext(context, logslots)\n",
    "    evaluator.mult(test_ct[i], weight_ct[i], mult_ct)\n",
    "    evaluator.add(test_sum_ct, mult_ct, test_sum_ct)"
   ]
  },
  {
   "cell_type": "code",
   "execution_count": 40,
   "metadata": {},
   "outputs": [],
   "source": [
    "test_pred_ct = heaan.Ciphertext(context)\n",
    "approx.sigmoid(evaluator, test_sum_ct, test_pred_ct, 1.0)"
   ]
  },
  {
   "cell_type": "code",
   "execution_count": 41,
   "metadata": {},
   "outputs": [],
   "source": [
    "pred_pt = heaan.Message(logslots)\n",
    "decryptor.decrypt(test_pred_ct, secret_key, pred_pt)\n",
    "\n",
    "pred = []\n",
    "for i in range(numslots):\n",
    "    pred.append(pred_pt[i])"
   ]
  },
  {
   "cell_type": "code",
   "execution_count": 42,
   "metadata": {},
   "outputs": [],
   "source": [
    "for i in range(len(pred)):\n",
    "    pred[i] = pred[i].real"
   ]
  },
  {
   "cell_type": "code",
   "execution_count": 43,
   "metadata": {},
   "outputs": [],
   "source": [
    "prediction = [1 if i > threshold else 0 for i in pred]"
   ]
  },
  {
   "cell_type": "code",
   "execution_count": 44,
   "metadata": {},
   "outputs": [
    {
     "data": {
      "text/plain": [
       "0.798828125"
      ]
     },
     "execution_count": 44,
     "metadata": {},
     "output_type": "execute_result"
    }
   ],
   "source": [
    "from sklearn.metrics import accuracy_score\n",
    "\n",
    "# 여기서 정확도가 안나옵니다....\n",
    "# 0.4~5정도로... 떨어집니다...\n",
    "accuracy_score(train_y, prediction)"
   ]
  }
 ],
 "metadata": {
  "kernelspec": {
   "display_name": ".venv",
   "language": "python",
   "name": "python3"
  },
  "language_info": {
   "codemirror_mode": {
    "name": "ipython",
    "version": 3
   },
   "file_extension": ".py",
   "mimetype": "text/x-python",
   "name": "python",
   "nbconvert_exporter": "python",
   "pygments_lexer": "ipython3",
   "version": "3.10.14"
  }
 },
 "nbformat": 4,
 "nbformat_minor": 2
}
